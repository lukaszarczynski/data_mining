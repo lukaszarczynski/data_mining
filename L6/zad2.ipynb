{
 "cells": [
  {
   "cell_type": "code",
   "execution_count": 1,
   "metadata": {
    "collapsed": true
   },
   "outputs": [],
   "source": [
    "from L6.a_priori import APriori\n",
    "import numpy as np\n",
    "import time"
   ]
  },
  {
   "cell_type": "code",
   "execution_count": 2,
   "metadata": {},
   "outputs": [],
   "source": [
    "filename = 'L6/data/retail.dat'\n",
    "\n",
    "transactions = []\n",
    "\n",
    "with open(filename, 'r') as f:\n",
    "    for line in f:\n",
    "        transactions.insert(0, np.fromstring(line, dtype=np.int32, sep='\\t'))"
   ]
  },
  {
   "cell_type": "code",
   "execution_count": 8,
   "metadata": {},
   "outputs": [
    {
     "name": "stdout",
     "output_type": "stream",
     "text": [
      "[array([  32,   39,  205,  242, 1393], dtype=int32), array([  39,   48, 2528], dtype=int32), array([2310, 4267], dtype=int32), array([   39,    41,   101,   346,   393,   413,   479,   522,   586,\n         635,   695,   799,  1466,  1786,  1994,  2449,  2830,  3035,\n        3591,  3722,  6217, 11493, 12129, 13033], dtype=int32), array([   39,   875,  2665,  2962, 12959, 14070, 14406, 15518, 16379], dtype=int32), array([   48,   201,   255,   278,   407,   479,   767,   824,   986,\n        1395,  1598,  2022,  2283,  2375,  6725, 13334, 14006, 14099], dtype=int32), array([   39,    41,    48,   243,   342,   438,   548,   703,   926,\n         967,  1060,  1280,  1772,  1814,  2012,  2714,  2792,  4592,\n        4646,  4698,  9150, 12932, 13334, 14893, 15160], dtype=int32), array([  48,  592,  766, 8685, 9925], dtype=int32), array([   39,    41,  9150, 10542], dtype=int32), array([   19,    41,    48, 16430], dtype=int32)]\n"
     ]
    }
   ],
   "source": [
    "print(transactions[:10])"
   ]
  },
  {
   "cell_type": "code",
   "execution_count": 9,
   "metadata": {},
   "outputs": [
    {
     "name": "stdout",
     "output_type": "stream",
     "text": [
      "Number of candidates of length 1: 16470\n"
     ]
    },
    {
     "name": "stdout",
     "output_type": "stream",
     "text": [
      "\tProcessed 1000 of 16470 items\n"
     ]
    },
    {
     "name": "stdout",
     "output_type": "stream",
     "text": [
      "\tProcessed 2000 of 16470 items\n"
     ]
    },
    {
     "name": "stdout",
     "output_type": "stream",
     "text": [
      "\tProcessed 3000 of 16470 items\n"
     ]
    },
    {
     "name": "stdout",
     "output_type": "stream",
     "text": [
      "\tProcessed 4000 of 16470 items\n"
     ]
    },
    {
     "name": "stdout",
     "output_type": "stream",
     "text": [
      "\tProcessed 5000 of 16470 items\n"
     ]
    },
    {
     "name": "stdout",
     "output_type": "stream",
     "text": [
      "\tProcessed 6000 of 16470 items\n"
     ]
    },
    {
     "name": "stdout",
     "output_type": "stream",
     "text": [
      "\tProcessed 7000 of 16470 items\n"
     ]
    },
    {
     "name": "stdout",
     "output_type": "stream",
     "text": [
      "\tProcessed 8000 of 16470 items\n"
     ]
    },
    {
     "name": "stdout",
     "output_type": "stream",
     "text": [
      "\tProcessed 9000 of 16470 items\n"
     ]
    },
    {
     "name": "stdout",
     "output_type": "stream",
     "text": [
      "\tProcessed 10000 of 16470 items\n"
     ]
    },
    {
     "name": "stdout",
     "output_type": "stream",
     "text": [
      "\tProcessed 11000 of 16470 items\n"
     ]
    },
    {
     "name": "stdout",
     "output_type": "stream",
     "text": [
      "\tProcessed 12000 of 16470 items\n"
     ]
    },
    {
     "name": "stdout",
     "output_type": "stream",
     "text": [
      "\tProcessed 13000 of 16470 items\n"
     ]
    },
    {
     "name": "stdout",
     "output_type": "stream",
     "text": [
      "\tProcessed 14000 of 16470 items\n"
     ]
    },
    {
     "name": "stdout",
     "output_type": "stream",
     "text": [
      "\tProcessed 15000 of 16470 items\n"
     ]
    },
    {
     "name": "stdout",
     "output_type": "stream",
     "text": [
      "\tProcessed 16000 of 16470 items\n"
     ]
    },
    {
     "name": "stdout",
     "output_type": "stream",
     "text": [
      "Number of candidates of length 2: 2415\n"
     ]
    },
    {
     "name": "stdout",
     "output_type": "stream",
     "text": [
      "\tProcessed 1000 of 2415 items\n"
     ]
    },
    {
     "name": "stdout",
     "output_type": "stream",
     "text": [
      "\tProcessed 2000 of 2415 items\n"
     ]
    },
    {
     "name": "stdout",
     "output_type": "stream",
     "text": [
      "Number of candidates of length 3: 609\n"
     ]
    },
    {
     "name": "stdout",
     "output_type": "stream",
     "text": [
      "Number of candidates of length 4: 98\n"
     ]
    },
    {
     "name": "stdout",
     "output_type": "stream",
     "text": [
      "Number of candidates of length 5: 10\n"
     ]
    },
    {
     "name": "stdout",
     "output_type": "stream",
     "text": [
      "Total time: 3107.940911054611\n"
     ]
    }
   ],
   "source": [
    "t0 = time.time()\n",
    "a_priori = APriori(transactions, min_support=0.01, \n",
    "            min_confidence=0.75, min_leverage=0.01)\n",
    "a_priori.find_frequent_sets()\n",
    "print('Total time: {}'.format(time.time()-t0))"
   ]
  },
  {
   "cell_type": "code",
   "execution_count": 11,
   "metadata": {},
   "outputs": [],
   "source": [
    "import pickle\n",
    "file = open(\"L6/zad2.frequent_items\", \"wb\")\n",
    "pickle.dump(a_priori, file)"
   ]
  },
  {
   "cell_type": "code",
   "execution_count": 2,
   "metadata": {},
   "outputs": [],
   "source": [
    "import pickle\n",
    "with open(\"L6/zad2.frequent_items\", \"rb\") as file:\n",
    "    a_priori = pickle.load(file)"
   ]
  },
  {
   "cell_type": "code",
   "execution_count": 3,
   "metadata": {},
   "outputs": [],
   "source": [
    "a_priori.find_association_rules()"
   ]
  },
  {
   "cell_type": "code",
   "execution_count": 5,
   "metadata": {},
   "outputs": [
    {
     "name": "stdout",
     "output_type": "stream",
     "text": [
      "(41,) => (39,), \n(confidence: 0.7637336901973905, leverage: 0.03202855813442558, support: 0.12946620993171662)\n\n\n(170,) => (38,), \n(confidence: 0.9780574378831881, leverage: 0.028161587775906993, support: 0.03437989156325855)\n\n\n(36,) => (38,), \n(confidence: 0.9502724795640326, leverage: 0.025755051659543816, support: 0.03164628751616343)\n\n\n(110,) => (38,), \n(confidence: 0.9753042233357193, leverage: 0.025302702904268913, support: 0.030909008416324494)\n\n\n(48, 41) => (39,), \n(confidence: 0.8168108227988469, leverage: 0.02475563785723845, support: 0.0835507361448243)\n\n\n(170, 39) => (38,), \n(confidence: 0.9805730937348227, leverage: 0.018769533120357073, support: 0.02290102311653547)\n\n\n(36, 39) => (38,), \n(confidence: 0.9548355424644084, leverage: 0.017974313359969102, support: 0.0220616592182573)\n\n\n(48, 38) => (39,), \n(confidence: 0.7681268882175226, leverage: 0.017420605695253243, support: 0.06921349334180259)\n\n\n(110, 39) => (38,), \n(confidence: 0.9891984081864696, leverage: 0.016206869885425294, support: 0.019736394364919127)\n\n\n(48, 170) => (38,), \n(confidence: 0.9877970456005138, leverage: 0.014320956746134473, support: 0.017445157777727364)\n\n\n(48, 110) => (38,), \n(confidence: 0.986231884057971, leverage: 0.012668448698340043, support: 0.01543749007508904)\n\n\n(48, 36) => (38,), \n(confidence: 0.9604519774011299, leverage: 0.012584870080955757, support: 0.015426147319706903)\n\n\n(48, 170) => (38, 39), \n(confidence: 0.7662170841361593, leverage: 0.011459589931095873, support: 0.013531907170889952)\n\n\n(48, 170, 39) => (38,), \n(confidence: 0.9892205638474296, leverage: 0.011112005793818002, support: 0.013531907170889952)\n\n\n(48, 36) => (38, 39), \n(confidence: 0.7627118644067796, leverage: 0.010365525066691457, support: 0.012250175812708423)\n\n\n(286,) => (38,), \n(confidence: 0.9433643279797125, leverage: 0.010284764319005903, support: 0.01265851500646537)\n\n\n(48, 36, 39) => (38,), \n(confidence: 0.967741935483871, leverage: 0.010010864090641843, support: 0.012250175812708423)\n\n\n"
     ]
    }
   ],
   "source": [
    "for k, v in sorted(a_priori.rules.items(), key=lambda x: x[1][1], reverse=True):\n",
    "    print(f\"{tuple(k[0])} => {tuple(k[1])},\",\n",
    "          f\"\\n(confidence: {v[0]}, leverage: {v[1]}, support: {v[2]})\\n\\n\")"
   ]
  },
  {
   "cell_type": "code",
   "execution_count": null,
   "metadata": {},
   "outputs": [],
   "source": []
  }
 ],
 "metadata": {
  "kernelspec": {
   "display_name": "Python 2",
   "language": "python",
   "name": "python2"
  },
  "language_info": {
   "codemirror_mode": {
    "name": "ipython",
    "version": 2
   },
   "file_extension": ".py",
   "mimetype": "text/x-python",
   "name": "python",
   "nbconvert_exporter": "python",
   "pygments_lexer": "ipython2",
   "version": "2.7.6"
  }
 },
 "nbformat": 4,
 "nbformat_minor": 0
}
