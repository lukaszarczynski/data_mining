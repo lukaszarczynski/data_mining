{
 "cells": [
  {
   "cell_type": "code",
   "execution_count": 19,
   "metadata": {
    "collapsed": true
   },
   "outputs": [],
   "source": [
    "% matplotlib inline\n",
    "\n",
    "import scipy.io\n",
    "import numpy as np\n",
    "from sklearn import decomposition\n",
    "\n",
    "from L5.knn import KNN\n",
    "from L7.validation import cross_validation\n",
    "from L7.pca import PCA"
   ]
  },
  {
   "cell_type": "code",
   "execution_count": 32,
   "metadata": {},
   "outputs": [
    {
     "name": "stdout",
     "output_type": "stream",
     "text": [
      "(350, 4920)\n"
     ]
    }
   ],
   "source": [
    "training_images = scipy.io.loadmat('L7/data/ReducedImagesForTraining.mat')[\"images\"]\n",
    "testing_images = scipy.io.loadmat('L7/data/ReducedImagesForTesting.mat')[\"images\"]\n",
    "training_images = PCA.standardize(training_images.T).T\n",
    "testing_images = PCA.standardize(testing_images.T).T\n",
    "training_images = np.append(training_images, testing_images, axis=1).T\n",
    "print(training_images.shape)"
   ]
  },
  {
   "cell_type": "code",
   "execution_count": 33,
   "metadata": {},
   "outputs": [],
   "source": [
    "training_targets = np.array([i // 5 for i in range(250)] + [i // 2 for i in range(100)])"
   ]
  },
  {
   "cell_type": "code",
   "execution_count": 34,
   "metadata": {},
   "outputs": [
    {
     "name": "stdout",
     "output_type": "stream",
     "text": [
      "[ 0.91428571  0.82857143  0.82857143  0.88571429  0.82857143  0.85714286\n  0.85714286  0.8         0.71428571  0.88571429]\n0.84\n\n[ 0.71428571  0.8         0.8         0.57142857  0.8         0.65714286\n  0.77142857  0.45714286  0.71428571  0.74285714]\n0.702857142857\n\n"
     ]
    },
    {
     "name": "stdout",
     "output_type": "stream",
     "text": [
      "[ 0.85714286  0.51428571  0.71428571  0.6         0.6         0.68571429\n  0.62857143  0.57142857  0.8         0.71428571]\n0.668571428571\n\n[ 0.48571429  0.54285714  0.65714286  0.71428571  0.6         0.62857143\n  0.48571429  0.68571429  0.6         0.54285714]\n0.594285714286\n\n"
     ]
    },
    {
     "name": "stdout",
     "output_type": "stream",
     "text": [
      "[ 0.48571429  0.51428571  0.54285714  0.68571429  0.65714286  0.6\n  0.51428571  0.68571429  0.37142857  0.54285714]\n0.56\n\n[ 0.54285714  0.48571429  0.68571429  0.4         0.51428571  0.54285714\n  0.45714286  0.51428571  0.51428571  0.51428571]\n0.517142857143\n\n"
     ]
    },
    {
     "name": "stdout",
     "output_type": "stream",
     "text": [
      "[ 0.42857143  0.42857143  0.57142857  0.37142857  0.51428571  0.54285714\n  0.6         0.34285714  0.37142857  0.48571429]\n0.465714285714\n\n[ 0.4         0.37142857  0.42857143  0.4         0.45714286  0.54285714\n  0.37142857  0.34285714  0.48571429  0.4       ]\n0.42\n\n"
     ]
    },
    {
     "name": "stdout",
     "output_type": "stream",
     "text": [
      "[ 0.28571429  0.45714286  0.34285714  0.34285714  0.42857143  0.4\n  0.31428571  0.37142857  0.48571429  0.54285714]\n0.397142857143\n\n[ 0.42857143  0.4         0.34285714  0.25714286  0.4         0.22857143\n  0.4         0.31428571  0.31428571  0.37142857]\n0.345714285714\n\n"
     ]
    },
    {
     "name": "stdout",
     "output_type": "stream",
     "text": [
      "[ 0.48571429  0.28571429  0.31428571  0.37142857  0.34285714  0.25714286\n  0.17142857  0.28571429  0.25714286  0.42857143]\n0.32\n\n[ 0.25714286  0.31428571  0.37142857  0.2         0.22857143  0.17142857\n  0.2         0.45714286  0.37142857  0.28571429]\n0.285714285714\n\n"
     ]
    }
   ],
   "source": [
    "for i in range(1, 25, 2):\n",
    "    cross_validation_result = np.array(\n",
    "        cross_validation(training_images, training_targets, KNN(k=i)))\n",
    "    print(cross_validation_result, cross_validation_result.mean(), sep=\"\\n\", end=\"\\n\\n\")"
   ]
  },
  {
   "cell_type": "code",
   "execution_count": 35,
   "metadata": {},
   "outputs": [
    {
     "name": "stdout",
     "output_type": "stream",
     "text": [
      "(350, 350)\n"
     ]
    }
   ],
   "source": [
    "training_images = scipy.io.loadmat('L7/data/ReducedImagesForTraining.mat')[\"images\"]\n",
    "testing_images = scipy.io.loadmat('L7/data/ReducedImagesForTesting.mat')[\"images\"]\n",
    "training_images = PCA.standardize(training_images.T).T\n",
    "testing_images = PCA.standardize(testing_images.T).T\n",
    "training_images = np.append(training_images, testing_images, axis=1).T\n",
    "training_images = decomposition.PCA().fit_transform(training_images)\n",
    "print(training_images.shape)"
   ]
  },
  {
   "cell_type": "code",
   "execution_count": 36,
   "metadata": {},
   "outputs": [
    {
     "name": "stdout",
     "output_type": "stream",
     "text": [
      "[ 0.74285714  0.88571429  0.8         0.85714286  0.91428571  0.77142857\n  0.82857143  0.82857143  0.97142857  0.82857143]\n0.842857142857\n\n[ 0.74285714  0.65714286  0.57142857  0.74285714  0.77142857  0.68571429\n  0.82857143  0.65714286  0.65714286  0.8       ]\n0.711428571429\n\n[ 0.54285714  0.74285714  0.77142857  0.6         0.6         0.62857143\n  0.65714286  0.68571429  0.65714286  0.65714286]\n0.654285714286\n\n[ 0.48571429  0.51428571  0.48571429  0.65714286  0.6         0.57142857\n  0.51428571  0.65714286  0.68571429  0.65714286]\n0.582857142857\n\n[ 0.51428571  0.42857143  0.54285714  0.54285714  0.57142857  0.62857143\n  0.6         0.62857143  0.57142857  0.51428571]\n0.554285714286\n\n[ 0.51428571  0.48571429  0.51428571  0.57142857  0.34285714  0.6\n  0.57142857  0.48571429  0.71428571  0.37142857]\n0.517142857143\n\n[ 0.37142857  0.48571429  0.37142857  0.48571429  0.4         0.48571429\n  0.48571429  0.54285714  0.54285714  0.51428571]\n0.468571428571\n\n"
     ]
    },
    {
     "name": "stdout",
     "output_type": "stream",
     "text": [
      "[ 0.45714286  0.37142857  0.48571429  0.37142857  0.31428571  0.42857143\n  0.45714286  0.42857143  0.57142857  0.54285714]\n0.442857142857\n\n[ 0.4         0.4         0.34285714  0.51428571  0.37142857  0.4\n  0.37142857  0.28571429  0.4         0.45714286]\n0.394285714286\n\n[ 0.37142857  0.37142857  0.4         0.31428571  0.42857143  0.51428571\n  0.25714286  0.37142857  0.34285714  0.31428571]\n0.368571428571\n\n[ 0.37142857  0.34285714  0.42857143  0.42857143  0.4         0.42857143\n  0.28571429  0.22857143  0.34285714  0.25714286]\n0.351428571429\n\n[ 0.28571429  0.2         0.51428571  0.25714286  0.4         0.42857143\n  0.22857143  0.42857143  0.22857143  0.22857143]\n0.32\n\n"
     ]
    }
   ],
   "source": [
    "for i in range(1, 25, 2):\n",
    "    cross_validation_result = np.array(\n",
    "        cross_validation(training_images, training_targets, KNN(k=i)))\n",
    "    print(cross_validation_result, cross_validation_result.mean(), sep=\"\\n\", end=\"\\n\\n\")"
   ]
  },
  {
   "cell_type": "code",
   "execution_count": 37,
   "metadata": {},
   "outputs": [
    {
     "name": "stdout",
     "output_type": "stream",
     "text": [
      "(350, 100)\n"
     ]
    }
   ],
   "source": [
    "training_images = scipy.io.loadmat('L7/data/ReducedImagesForTraining.mat')[\"images\"]\n",
    "testing_images = scipy.io.loadmat('L7/data/ReducedImagesForTesting.mat')[\"images\"]\n",
    "training_images = PCA.standardize(training_images.T).T\n",
    "testing_images = PCA.standardize(testing_images.T).T\n",
    "training_images = np.append(training_images, testing_images, axis=1).T\n",
    "training_images = decomposition.PCA(n_components=100).fit_transform(training_images)\n",
    "print(training_images.shape)"
   ]
  },
  {
   "cell_type": "code",
   "execution_count": 38,
   "metadata": {},
   "outputs": [
    {
     "name": "stdout",
     "output_type": "stream",
     "text": [
      "[ 0.88571429  0.88571429  0.77142857  0.85714286  0.77142857  0.8\n  0.88571429  0.97142857  0.82857143  0.91428571]\n0.857142857143\n\n[ 0.74285714  0.68571429  0.65714286  0.68571429  0.74285714  0.8         0.8\n  0.68571429  0.77142857  0.71428571]\n0.728571428571\n\n[ 0.48571429  0.68571429  0.71428571  0.71428571  0.77142857  0.74285714\n  0.77142857  0.68571429  0.62857143  0.68571429]\n0.688571428571\n\n[ 0.62857143  0.6         0.77142857  0.6         0.62857143  0.54285714\n  0.51428571  0.6         0.71428571  0.62857143]\n0.622857142857\n\n[ 0.62857143  0.51428571  0.65714286  0.62857143  0.54285714  0.77142857\n  0.6         0.42857143  0.62857143  0.48571429]\n0.588571428571\n\n[ 0.54285714  0.4         0.57142857  0.57142857  0.6         0.42857143\n  0.62857143  0.57142857  0.45714286  0.51428571]\n0.528571428571\n\n[ 0.42857143  0.51428571  0.34285714  0.42857143  0.45714286  0.65714286\n  0.51428571  0.57142857  0.57142857  0.6       ]\n0.508571428571\n\n[ 0.45714286  0.4         0.45714286  0.37142857  0.62857143  0.4\n  0.51428571  0.54285714  0.28571429  0.6       ]\n0.465714285714\n\n[ 0.42857143  0.48571429  0.42857143  0.4         0.28571429  0.22857143\n  0.31428571  0.4         0.28571429  0.6       ]\n0.385714285714\n\n"
     ]
    },
    {
     "name": "stdout",
     "output_type": "stream",
     "text": [
      "[ 0.42857143  0.34285714  0.4         0.37142857  0.42857143  0.22857143\n  0.45714286  0.45714286  0.4         0.4       ]\n0.391428571429\n\n[ 0.37142857  0.31428571  0.34285714  0.25714286  0.37142857  0.4\n  0.25714286  0.42857143  0.34285714  0.45714286]\n0.354285714286\n\n[ 0.34285714  0.42857143  0.28571429  0.34285714  0.22857143  0.37142857\n  0.4         0.42857143  0.31428571  0.2       ]\n0.334285714286\n\n"
     ]
    }
   ],
   "source": [
    "for i in range(1, 25, 2):\n",
    "    cross_validation_result = np.array(\n",
    "        cross_validation(training_images, training_targets, KNN(k=i)))\n",
    "    print(cross_validation_result, cross_validation_result.mean(), sep=\"\\n\", end=\"\\n\\n\")"
   ]
  },
  {
   "cell_type": "code",
   "execution_count": null,
   "metadata": {},
   "outputs": [],
   "source": []
  }
 ],
 "metadata": {
  "kernelspec": {
   "display_name": "Python 2",
   "language": "python",
   "name": "python2"
  },
  "language_info": {
   "codemirror_mode": {
    "name": "ipython",
    "version": 2
   },
   "file_extension": ".py",
   "mimetype": "text/x-python",
   "name": "python",
   "nbconvert_exporter": "python",
   "pygments_lexer": "ipython2",
   "version": "2.7.6"
  }
 },
 "nbformat": 4,
 "nbformat_minor": 0
}
