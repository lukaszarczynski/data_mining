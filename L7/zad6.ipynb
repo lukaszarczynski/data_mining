{
 "cells": [
  {
   "cell_type": "code",
   "execution_count": 12,
   "metadata": {
    "collapsed": true
   },
   "outputs": [],
   "source": [
    "% matplotlib inline\n",
    "\n",
    "import scipy.io\n",
    "import numpy as np\n",
    "from sklearn import decomposition\n",
    "\n",
    "from L5.knn import KNN\n",
    "from L7.validation import cross_validation"
   ]
  },
  {
   "cell_type": "code",
   "execution_count": 13,
   "metadata": {},
   "outputs": [
    {
     "name": "stdout",
     "output_type": "stream",
     "text": [
      "(350, 4920)\n"
     ]
    }
   ],
   "source": [
    "training_images = scipy.io.loadmat('L7/data/ReducedImagesForTraining.mat')[\"images\"]\n",
    "testing_images = scipy.io.loadmat('L7/data/ReducedImagesForTesting.mat')[\"images\"]\n",
    "training_images = np.append(training_images, testing_images, axis=1).T\n",
    "print(training_images.shape)"
   ]
  },
  {
   "cell_type": "code",
   "execution_count": 14,
   "metadata": {},
   "outputs": [],
   "source": [
    "training_targets = np.array([i // 5 for i in range(250)] + [i // 2 for i in range(100)])"
   ]
  },
  {
   "cell_type": "code",
   "execution_count": 15,
   "metadata": {},
   "outputs": [
    {
     "name": "stdout",
     "output_type": "stream",
     "text": [
      "[ 0.34285714  0.4         0.54285714  0.4         0.62857143  0.45714286\n  0.65714286  0.48571429  0.42857143  0.62857143]\n0.497142857143\n\n[ 0.48571429  0.45714286  0.34285714  0.45714286  0.54285714  0.4\n  0.37142857  0.45714286  0.45714286  0.4       ]\n0.437142857143\n\n"
     ]
    },
    {
     "name": "stdout",
     "output_type": "stream",
     "text": [
      "[ 0.28571429  0.42857143  0.34285714  0.28571429  0.25714286  0.28571429\n  0.45714286  0.34285714  0.42857143  0.28571429]\n0.34\n\n[ 0.34285714  0.2         0.2         0.14285714  0.28571429  0.22857143\n  0.48571429  0.28571429  0.25714286  0.28571429]\n0.271428571429\n\n"
     ]
    },
    {
     "name": "stdout",
     "output_type": "stream",
     "text": [
      "[ 0.25714286  0.17142857  0.11428571  0.2         0.17142857  0.22857143\n  0.22857143  0.25714286  0.31428571  0.31428571]\n0.225714285714\n\n[ 0.2         0.17142857  0.17142857  0.25714286  0.2         0.2\n  0.14285714  0.2         0.14285714  0.25714286]\n0.194285714286\n\n"
     ]
    },
    {
     "name": "stdout",
     "output_type": "stream",
     "text": [
      "[ 0.11428571  0.11428571  0.14285714  0.14285714  0.22857143  0.05714286\n  0.28571429  0.28571429  0.22857143  0.14285714]\n0.174285714286\n\n[ 0.11428571  0.11428571  0.05714286  0.08571429  0.14285714  0.28571429\n  0.08571429  0.14285714  0.11428571  0.05714286]\n0.12\n\n"
     ]
    },
    {
     "name": "stdout",
     "output_type": "stream",
     "text": [
      "[ 0.11428571  0.14285714  0.11428571  0.14285714  0.11428571  0.14285714\n  0.02857143  0.11428571  0.11428571  0.02857143]\n0.105714285714\n\n[ 0.08571429  0.08571429  0.05714286  0.02857143  0.02857143  0.08571429\n  0.08571429  0.08571429  0.05714286  0.05714286]\n0.0657142857143\n\n"
     ]
    },
    {
     "name": "stdout",
     "output_type": "stream",
     "text": [
      "[ 0.05714286  0.05714286  0.2         0.05714286  0.11428571  0.08571429\n  0.05714286  0.11428571  0.02857143  0.02857143]\n0.08\n\n[ 0.08571429  0.14285714  0.05714286  0.08571429  0.08571429  0.08571429\n  0.02857143  0.08571429  0.11428571  0.11428571]\n0.0885714285714\n\n"
     ]
    }
   ],
   "source": [
    "for i in range(1, 25, 2):\n",
    "    cross_validation_result = np.array(\n",
    "        cross_validation(training_images, training_targets, KNN(k=i)))\n",
    "    print(cross_validation_result, cross_validation_result.mean(), sep=\"\\n\", end=\"\\n\\n\")"
   ]
  },
  {
   "cell_type": "code",
   "execution_count": 16,
   "metadata": {},
   "outputs": [
    {
     "name": "stdout",
     "output_type": "stream",
     "text": [
      "(350, 350)\n"
     ]
    }
   ],
   "source": [
    "training_images = scipy.io.loadmat('L7/data/ReducedImagesForTraining.mat')[\"images\"]\n",
    "testing_images = scipy.io.loadmat('L7/data/ReducedImagesForTesting.mat')[\"images\"]\n",
    "training_images = np.append(training_images, testing_images, axis=1).T\n",
    "training_images = decomposition.PCA().fit_transform(training_images)\n",
    "print(training_images.shape)"
   ]
  },
  {
   "cell_type": "code",
   "execution_count": 17,
   "metadata": {},
   "outputs": [
    {
     "name": "stdout",
     "output_type": "stream",
     "text": [
      "[ 0.65714286  0.57142857  0.4         0.37142857  0.4         0.34285714\n  0.68571429  0.62857143  0.57142857  0.54285714]\n0.517142857143\n\n[ 0.37142857  0.4         0.22857143  0.45714286  0.34285714  0.42857143\n  0.45714286  0.37142857  0.48571429  0.51428571]\n0.405714285714\n\n[ 0.25714286  0.42857143  0.31428571  0.42857143  0.25714286  0.28571429\n  0.22857143  0.45714286  0.34285714  0.42857143]\n0.342857142857\n\n[ 0.31428571  0.28571429  0.22857143  0.37142857  0.22857143  0.31428571\n  0.34285714  0.22857143  0.4         0.31428571]\n0.302857142857\n\n[ 0.17142857  0.22857143  0.28571429  0.17142857  0.14285714  0.34285714\n  0.14285714  0.37142857  0.2         0.11428571]\n0.217142857143\n\n[ 0.31428571  0.17142857  0.17142857  0.14285714  0.22857143  0.2\n  0.14285714  0.05714286  0.22857143  0.2       ]\n0.185714285714\n\n[ 0.14285714  0.22857143  0.17142857  0.17142857  0.02857143  0.2\n  0.08571429  0.17142857  0.17142857  0.08571429]\n0.145714285714\n\n[ 0.11428571  0.2         0.08571429  0.14285714  0.14285714  0.05714286\n  0.22857143  0.02857143  0.08571429  0.08571429]\n0.117142857143\n\n[ 0.08571429  0.08571429  0.02857143  0.08571429  0.11428571  0.14285714\n  0.11428571  0.11428571  0.14285714  0.        ]\n0.0914285714286\n\n"
     ]
    },
    {
     "name": "stdout",
     "output_type": "stream",
     "text": [
      "[ 0.05714286  0.08571429  0.02857143  0.11428571  0.08571429  0.17142857\n  0.08571429  0.02857143  0.05714286  0.08571429]\n0.08\n\n[ 0.02857143  0.02857143  0.11428571  0.08571429  0.02857143  0.05714286\n  0.05714286  0.02857143  0.05714286  0.08571429]\n0.0571428571429\n\n[ 0.08571429  0.02857143  0.08571429  0.08571429  0.11428571  0.\n  0.05714286  0.08571429  0.2         0.08571429]\n0.0828571428571\n\n"
     ]
    }
   ],
   "source": [
    "for i in range(1, 25, 2):\n",
    "    cross_validation_result = np.array(\n",
    "        cross_validation(training_images, training_targets, KNN(k=i)))\n",
    "    print(cross_validation_result, cross_validation_result.mean(), sep=\"\\n\", end=\"\\n\\n\")"
   ]
  },
  {
   "cell_type": "code",
   "execution_count": 18,
   "metadata": {},
   "outputs": [
    {
     "name": "stdout",
     "output_type": "stream",
     "text": [
      "(350, 100)\n"
     ]
    }
   ],
   "source": [
    "training_images = scipy.io.loadmat('L7/data/ReducedImagesForTraining.mat')[\"images\"]\n",
    "testing_images = scipy.io.loadmat('L7/data/ReducedImagesForTesting.mat')[\"images\"]\n",
    "training_images = np.append(training_images, testing_images, axis=1).T\n",
    "training_images = decomposition.PCA(n_components=100).fit_transform(training_images)\n",
    "print(training_images.shape)"
   ]
  },
  {
   "cell_type": "code",
   "execution_count": 19,
   "metadata": {},
   "outputs": [
    {
     "name": "stdout",
     "output_type": "stream",
     "text": [
      "[ 0.48571429  0.45714286  0.45714286  0.54285714  0.54285714  0.48571429\n  0.57142857  0.48571429  0.6         0.37142857]\n0.5\n\n[ 0.4         0.57142857  0.48571429  0.48571429  0.31428571  0.45714286\n  0.6         0.42857143  0.31428571  0.4       ]\n0.445714285714\n\n[ 0.42857143  0.45714286  0.42857143  0.57142857  0.28571429  0.28571429\n  0.34285714  0.31428571  0.31428571  0.28571429]\n0.371428571429\n\n[ 0.2         0.34285714  0.31428571  0.31428571  0.25714286  0.22857143\n  0.2         0.34285714  0.31428571  0.34285714]\n0.285714285714\n\n[ 0.31428571  0.22857143  0.22857143  0.22857143  0.25714286  0.25714286\n  0.31428571  0.25714286  0.22857143  0.08571429]\n0.24\n\n[ 0.17142857  0.25714286  0.31428571  0.2         0.17142857  0.28571429\n  0.17142857  0.08571429  0.2         0.2       ]\n0.205714285714\n\n[ 0.05714286  0.25714286  0.2         0.08571429  0.17142857  0.02857143\n  0.08571429  0.17142857  0.2         0.22857143]\n0.148571428571\n\n[ 0.05714286  0.14285714  0.2         0.05714286  0.17142857  0.14285714\n  0.05714286  0.08571429  0.11428571  0.11428571]\n0.114285714286\n\n[ 0.11428571  0.05714286  0.11428571  0.05714286  0.08571429  0.08571429\n  0.14285714  0.28571429  0.08571429  0.11428571]\n0.114285714286\n\n[ 0.08571429  0.05714286  0.05714286  0.11428571  0.05714286  0.05714286\n  0.11428571  0.05714286  0.08571429  0.08571429]\n0.0771428571429\n\n"
     ]
    },
    {
     "name": "stdout",
     "output_type": "stream",
     "text": [
      "[ 0.11428571  0.05714286  0.14285714  0.11428571  0.05714286  0.11428571\n  0.08571429  0.14285714  0.08571429  0.05714286]\n0.0971428571429\n\n[ 0.08571429  0.11428571  0.11428571  0.08571429  0.02857143  0.08571429\n  0.11428571  0.14285714  0.05714286  0.05714286]\n0.0885714285714\n\n"
     ]
    }
   ],
   "source": [
    "for i in range(1, 25, 2):\n",
    "    cross_validation_result = np.array(\n",
    "        cross_validation(training_images, training_targets, KNN(k=i)))\n",
    "    print(cross_validation_result, cross_validation_result.mean(), sep=\"\\n\", end=\"\\n\\n\")"
   ]
  },
  {
   "cell_type": "code",
   "execution_count": null,
   "metadata": {},
   "outputs": [],
   "source": []
  }
 ],
 "metadata": {
  "kernelspec": {
   "display_name": "Python 2",
   "language": "python",
   "name": "python2"
  },
  "language_info": {
   "codemirror_mode": {
    "name": "ipython",
    "version": 2
   },
   "file_extension": ".py",
   "mimetype": "text/x-python",
   "name": "python",
   "nbconvert_exporter": "python",
   "pygments_lexer": "ipython2",
   "version": "2.7.6"
  }
 },
 "nbformat": 4,
 "nbformat_minor": 0
}
