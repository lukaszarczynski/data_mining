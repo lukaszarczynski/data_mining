{
 "cells": [
  {
   "cell_type": "code",
   "execution_count": 1,
   "metadata": {
    "collapsed": true
   },
   "outputs": [],
   "source": [
    "% matplotlib inline\n",
    "\n",
    "import scipy.io\n",
    "import numpy as np\n",
    "from sklearn import decomposition\n",
    "\n",
    "from L7.face_recognition import FaceRecognition"
   ]
  },
  {
   "cell_type": "code",
   "execution_count": 2,
   "metadata": {},
   "outputs": [
    {
     "name": "stdout",
     "output_type": "stream",
     "text": [
      "(4920, 250) (4920, 100)\n"
     ]
    }
   ],
   "source": [
    "training_images = scipy.io.loadmat('L7/data/ReducedImagesForTraining.mat')[\"images\"]\n",
    "testing_images = scipy.io.loadmat('L7/data/ReducedImagesForTesting.mat')[\"images\"]\n",
    "print(training_images.shape, testing_images.shape)"
   ]
  },
  {
   "cell_type": "code",
   "execution_count": 3,
   "metadata": {},
   "outputs": [
    {
     "name": "stdout",
     "output_type": "stream",
     "text": [
      "(250, 250) (100, 250)\n"
     ]
    }
   ],
   "source": [
    "pca = decomposition.PCA()\n",
    "pca.fit(training_images.T)\n",
    "training_images_pca = pca.transform(training_images.T)\n",
    "testing_images_pca = pca.transform(testing_images.T)\n",
    "print(training_images_pca.shape, testing_images_pca.shape)"
   ]
  },
  {
   "cell_type": "code",
   "execution_count": 4,
   "metadata": {},
   "outputs": [],
   "source": [
    "face_recognition = FaceRecognition()\n",
    "face_recognition.fit(training_images_pca.T)"
   ]
  },
  {
   "cell_type": "code",
   "execution_count": 5,
   "metadata": {},
   "outputs": [
    {
     "data": {
      "text/plain": [
       "array([31, 31, 24,  1, 31, 31, 24, 34, 38, 31,  5,  5, 31, 31, 12, 12, 18,\n        8, 29, 29, 29, 29, 32, 32, 31, 31, 24, 32, 32, 32, 18, 18, 31, 31,\n       24,  1, 18, 18, 32, 31, 31, 31, 31, 31,  0,  0, 32, 32, 31, 31,  8,\n       25, 32, 32, 29, 29, 24, 12, 29, 29, 32, 32, 31, 31, 32, 32, 29, 31,\n       32, 32, 31, 31, 32, 32, 37, 37, 31, 31,  0, 32, 29, 46, 31, 31, 21,\n       21, 18, 12, 31, 32, 18,  5, 46, 31, 49, 47, 31, 31, 31, 31])"
      ]
     },
     "execution_count": 5,
     "metadata": {},
     "output_type": "execute_result"
    }
   ],
   "source": [
    "face_recognition.predict(testing_images_pca.T)"
   ]
  },
  {
   "cell_type": "code",
   "execution_count": 6,
   "metadata": {},
   "outputs": [
    {
     "name": "stdout",
     "output_type": "stream",
     "text": [
      "pred. id\teucl. distance\tpr. pers.\tpers.\tcorrect\ttest id.\n157\t14642208\t31\t0\tFalse\t0\n159\t25794115\t31\t0\tFalse\t1\n120\t17705297\t24\t1\tFalse\t2\n9\t30749922\t1\t1\tTrue\t3\n157\t20007864\t31\t2\tFalse\t4\n159\t40160240\t31\t2\tFalse\t5\n120\t14145737\t24\t3\tFalse\t6\n174\t19601699\t34\t3\tFalse\t7\n190\t17714293\t38\t4\tFalse\t8\n157\t13615908\t31\t4\tFalse\t9\n27\t19768225\t5\t5\tTrue\t10\n29\t32043530\t5\t5\tTrue\t11\n157\t16987638\t31\t6\tFalse\t12\n159\t26922395\t31\t6\tFalse\t13\n61\t30149923\t12\t7\tFalse\t14\n64\t36825893\t12\t7\tFalse\t15\n90\t36801848\t18\t8\tFalse\t16\n44\t55948034\t8\t8\tTrue\t17\n147\t34136675\t29\t9\tFalse\t18\n149\t31778669\t29\t9\tFalse\t19\n145\t32612692\t29\t10\tFalse\t20\n149\t60545055\t29\t10\tFalse\t21\n160\t34143630\t32\t11\tFalse\t22\n164\t52565387\t32\t11\tFalse\t23\n157\t33839852\t31\t12\tFalse\t24\n159\t33690893\t31\t12\tFalse\t25\n120\t18900265\t24\t13\tFalse\t26\n164\t21868665\t32\t13\tFalse\t27\n162\t18104396\t32\t14\tFalse\t28\n164\t17364894\t32\t14\tFalse\t29\n90\t19475102\t18\t15\tFalse\t30\n94\t31424230\t18\t15\tFalse\t31\n157\t20865735\t31\t16\tFalse\t32\n159\t37903605\t31\t16\tFalse\t33\n120\t25809811\t24\t17\tFalse\t34\n9\t32329674\t1\t17\tFalse\t35\n90\t36159486\t18\t18\tTrue\t36\n94\t52639346\t18\t18\tTrue\t37\n162\t27236191\t32\t19\tFalse\t38\n159\t24018999\t31\t19\tFalse\t39\n157\t21444870\t31\t20\tFalse\t40\n159\t40783091\t31\t20\tFalse\t41\n157\t27794843\t31\t21\tFalse\t42\n159\t47809175\t31\t21\tFalse\t43\n0\t23045328\t0\t22\tFalse\t44\n4\t27639011\t0\t22\tFalse\t45\n162\t27402856\t32\t23\tFalse\t46\n164\t40619281\t32\t23\tFalse\t47\n157\t38819239\t31\t24\tFalse\t48\n159\t28281576\t31\t24\tFalse\t49\n41\t15143911\t8\t25\tFalse\t50\n129\t18614052\t25\t25\tTrue\t51\n160\t12420823\t32\t26\tFalse\t52\n160\t22677391\t32\t26\tFalse\t53\n145\t36012147\t29\t27\tFalse\t54\n145\t33578805\t29\t27\tFalse\t55\n120\t22850038\t24\t28\tFalse\t56\n64\t39524329\t12\t28\tFalse\t57\n145\t41133906\t29\t29\tTrue\t58\n149\t30882678\t29\t29\tTrue\t59\n162\t13465716\t32\t30\tFalse\t60\n164\t20950636\t32\t30\tFalse\t61\n157\t28039668\t31\t31\tTrue\t62\n159\t42657766\t31\t31\tTrue\t63\n162\t23540721\t32\t32\tTrue\t64\n164\t58601460\t32\t32\tTrue\t65\n147\t32529496\t29\t33\tFalse\t66\n159\t58858804\t31\t33\tFalse\t67\n162\t33358967\t32\t34\tFalse\t68\n164\t23496975\t32\t34\tFalse\t69\n157\t25143738\t31\t35\tFalse\t70\n159\t36883594\t31\t35\tFalse\t71\n162\t16595880\t32\t36\tFalse\t72\n164\t34100665\t32\t36\tFalse\t73\n189\t30295278\t37\t37\tTrue\t74\n189\t34133596\t37\t37\tTrue\t75\n157\t26080041\t31\t38\tFalse\t76\n159\t45542253\t31\t38\tFalse\t77\n0\t27018614\t0\t39\tFalse\t78\n164\t24568063\t32\t39\tFalse\t79\n145\t18722331\t29\t40\tFalse\t80\n234\t32508442\t46\t40\tFalse\t81\n157\t30688257\t31\t41\tFalse\t82\n159\t60741820\t31\t41\tFalse\t83\n105\t36348448\t21\t42\tFalse\t84\n105\t16396234\t21\t42\tFalse\t85\n90\t27868711\t18\t43\tFalse\t86\n64\t43359112\t12\t43\tFalse\t87\n157\t40463462\t31\t44\tFalse\t88\n164\t33136637\t32\t44\tFalse\t89\n90\t15962829\t18\t45\tFalse\t90\n29\t24016847\t5\t45\tFalse\t91\n230\t20866160\t46\t46\tTrue\t92\n159\t35207654\t31\t46\tFalse\t93\n245\t24051167\t49\t47\tFalse\t94\n239\t37619658\t47\t47\tTrue\t95\n157\t28362506\t31\t48\tFalse\t96\n159\t40699371\t31\t48\tFalse\t97\n157\t37940144\t31\t49\tFalse\t98\n159\t25533069\t31\t49\tFalse\t99\n"
     ]
    }
   ],
   "source": [
    "face_recognition.print_results(testing_images_pca.T)"
   ]
  },
  {
   "cell_type": "code",
   "execution_count": 7,
   "metadata": {},
   "outputs": [
    {
     "data": {
      "text/plain": [
       "0.17000000000000001"
      ]
     },
     "execution_count": 7,
     "metadata": {},
     "output_type": "execute_result"
    }
   ],
   "source": [
    "face_recognition.score(testing_images_pca.T)"
   ]
  },
  {
   "cell_type": "code",
   "execution_count": 8,
   "metadata": {},
   "outputs": [
    {
     "name": "stdout",
     "output_type": "stream",
     "text": [
      "(250, 100) (100, 100)\n"
     ]
    },
    {
     "data": {
      "text/plain": [
       "0.14999999999999999"
      ]
     },
     "execution_count": 8,
     "metadata": {},
     "output_type": "execute_result"
    }
   ],
   "source": [
    "pca = decomposition.PCA(n_components=100)\n",
    "pca.fit(training_images.T)\n",
    "training_images_pca = pca.transform(training_images.T)\n",
    "testing_images_pca = pca.transform(testing_images.T)\n",
    "print(training_images_pca.shape, testing_images_pca.shape)\n",
    "\n",
    "face_recognition = FaceRecognition()\n",
    "face_recognition.fit(training_images_pca.T)\n",
    "face_recognition.score(testing_images_pca.T)"
   ]
  },
  {
   "cell_type": "code",
   "execution_count": 9,
   "metadata": {},
   "outputs": [
    {
     "name": "stdout",
     "output_type": "stream",
     "text": [
      "(250, 50) (100, 50)\n"
     ]
    },
    {
     "data": {
      "text/plain": [
       "0.14000000000000001"
      ]
     },
     "execution_count": 9,
     "metadata": {},
     "output_type": "execute_result"
    }
   ],
   "source": [
    "pca = decomposition.PCA(n_components=50)\n",
    "pca.fit(training_images.T)\n",
    "training_images_pca = pca.transform(training_images.T)\n",
    "testing_images_pca = pca.transform(testing_images.T)\n",
    "print(training_images_pca.shape, testing_images_pca.shape)\n",
    "\n",
    "face_recognition = FaceRecognition()\n",
    "face_recognition.fit(training_images_pca.T)\n",
    "face_recognition.score(testing_images_pca.T)"
   ]
  },
  {
   "cell_type": "code",
   "execution_count": 11,
   "metadata": {},
   "outputs": [
    {
     "name": "stdout",
     "output_type": "stream",
     "text": [
      "(250, 30) (100, 30)\n"
     ]
    },
    {
     "data": {
      "text/plain": [
       "0.11"
      ]
     },
     "execution_count": 11,
     "metadata": {},
     "output_type": "execute_result"
    }
   ],
   "source": [
    "pca = decomposition.PCA(n_components=30)\n",
    "pca.fit(training_images.T)\n",
    "training_images_pca = pca.transform(training_images.T)\n",
    "testing_images_pca = pca.transform(testing_images.T)\n",
    "print(training_images_pca.shape, testing_images_pca.shape)\n",
    "\n",
    "face_recognition = FaceRecognition()\n",
    "face_recognition.fit(training_images_pca.T)\n",
    "face_recognition.score(testing_images_pca.T)"
   ]
  },
  {
   "cell_type": "code",
   "execution_count": null,
   "metadata": {},
   "outputs": [],
   "source": []
  }
 ],
 "metadata": {
  "kernelspec": {
   "display_name": "Python 2",
   "language": "python",
   "name": "python2"
  },
  "language_info": {
   "codemirror_mode": {
    "name": "ipython",
    "version": 2
   },
   "file_extension": ".py",
   "mimetype": "text/x-python",
   "name": "python",
   "nbconvert_exporter": "python",
   "pygments_lexer": "ipython2",
   "version": "2.7.6"
  }
 },
 "nbformat": 4,
 "nbformat_minor": 0
}
