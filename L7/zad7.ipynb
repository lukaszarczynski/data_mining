{
 "cells": [
  {
   "cell_type": "code",
   "execution_count": 52,
   "metadata": {
    "collapsed": true
   },
   "outputs": [],
   "source": [
    "% matplotlib inline\n",
    "\n",
    "import scipy.misc\n",
    "import numpy as np\n",
    "\n",
    "from matplotlib import pyplot\n",
    "from matplotlib.pyplot import imshow\n",
    "from sklearn import decomposition\n",
    "\n",
    "from L7.pca import PCA\n",
    "from L7.validation import cross_validation, cross_validation_indices, shuffle_indices\n",
    "from L5.knn import KNN"
   ]
  },
  {
   "cell_type": "code",
   "execution_count": 3,
   "metadata": {},
   "outputs": [],
   "source": [
    "prefix = \"L7/data/test2/\""
   ]
  },
  {
   "cell_type": "code",
   "execution_count": 43,
   "metadata": {},
   "outputs": [],
   "source": [
    "faces = []\n",
    "for sex in [\"M\", \"W\"]:\n",
    "    for person in range(1, 51):\n",
    "        for face_id in range(1, 27):\n",
    "            photo = scipy.misc.imread(f\"{prefix}{sex}-{person:03}-{face_id:02}.bmp\")\n",
    "            faces.append(photo.flatten())"
   ]
  },
  {
   "cell_type": "code",
   "execution_count": 44,
   "metadata": {},
   "outputs": [
    {
     "name": "stdout",
     "output_type": "stream",
     "text": [
      "165 120 3\n"
     ]
    }
   ],
   "source": [
    "photo = scipy.misc.imread(f\"{prefix}{'M'}-{1:03}-{1:02}.bmp\")\n",
    "length, width, colour_depth = photo.shape\n",
    "print(length, width, colour_depth)"
   ]
  },
  {
   "cell_type": "code",
   "execution_count": 45,
   "metadata": {},
   "outputs": [],
   "source": [
    "faces = np.array(faces).astype(\"float32\")"
   ]
  },
  {
   "cell_type": "code",
   "execution_count": 38,
   "metadata": {},
   "outputs": [
    {
     "name": "stdout",
     "output_type": "stream",
     "text": [
      "(2600, 59400)\n"
     ]
    }
   ],
   "source": [
    "print(faces.shape)"
   ]
  },
  {
   "cell_type": "code",
   "execution_count": 64,
   "metadata": {},
   "outputs": [],
   "source": [
    "imshow(faces[0].reshape([length, width, colour_depth]))"
   ]
  },
  {
   "cell_type": "code",
   "execution_count": 27,
   "metadata": {},
   "outputs": [],
   "source": [
    "faces_standardized = PCA.standardize(faces)"
   ]
  },
  {
   "cell_type": "code",
   "execution_count": 48,
   "metadata": {},
   "outputs": [],
   "source": [
    "faces_standardized = faces_standardized.astype(\"float32\")"
   ]
  },
  {
   "cell_type": "code",
   "execution_count": 46,
   "metadata": {},
   "outputs": [],
   "source": [
    "targets = np.array([i // 26 for i in range(2600)]).astype(\"float32\")"
   ]
  },
  {
   "cell_type": "code",
   "execution_count": 47,
   "metadata": {},
   "outputs": [
    {
     "name": "stdout",
     "output_type": "stream",
     "text": [
      "[ 0.63461538  0.60384615  0.58461538  0.63461538  0.52692308  0.65769231\n  0.66153846  0.58076923  0.68076923  0.63461538]\n0.62\n\n"
     ]
    },
    {
     "name": "stdout",
     "output_type": "stream",
     "text": [
      "[ 0.4         0.41153846  0.4         0.43461538  0.45        0.4\n  0.44615385  0.41538462  0.36538462  0.4       ]\n0.412307692308\n\n"
     ]
    },
    {
     "name": "stdout",
     "output_type": "stream",
     "text": [
      "[ 0.28461538  0.31538462  0.34230769  0.37307692  0.3         0.39230769\n  0.28846154  0.29615385  0.31538462  0.38461538]\n0.329230769231\n\n"
     ]
    },
    {
     "name": "stdout",
     "output_type": "stream",
     "text": [
      "[ 0.23846154  0.28461538  0.26923077  0.28076923  0.33461538  0.33076923\n  0.29230769  0.3         0.30384615  0.30769231]\n0.294230769231\n\n"
     ]
    }
   ],
   "source": [
    "for i in range(1, 8, 2):\n",
    "    cross_validation_result = np.array(\n",
    "        cross_validation(faces, targets, KNN(k=i)))\n",
    "    print(cross_validation_result, cross_validation_result.mean(), sep=\"\\n\", end=\"\\n\\n\")"
   ]
  },
  {
   "cell_type": "code",
   "execution_count": 49,
   "metadata": {},
   "outputs": [
    {
     "name": "stdout",
     "output_type": "stream",
     "text": [
      "[ 0.65769231  0.66153846  0.66538462  0.65769231  0.63846154  0.69230769\n  0.66153846  0.64230769  0.63461538  0.68076923]\n0.659230769231\n\n"
     ]
    },
    {
     "name": "stdout",
     "output_type": "stream",
     "text": [
      "[ 0.4         0.44230769  0.48076923  0.43846154  0.42692308  0.45384615\n  0.41538462  0.50384615  0.44615385  0.42307692]\n0.443076923077\n\n"
     ]
    },
    {
     "name": "stdout",
     "output_type": "stream",
     "text": [
      "[ 0.41923077  0.38076923  0.38846154  0.34615385  0.39230769  0.38076923\n  0.42692308  0.42307692  0.32692308  0.41538462]\n0.39\n\n"
     ]
    },
    {
     "name": "stdout",
     "output_type": "stream",
     "text": [
      "[ 0.35384615  0.32307692  0.35384615  0.38461538  0.35384615  0.37692308\n  0.36538462  0.38076923  0.30769231  0.33461538]\n0.353461538462\n\n"
     ]
    }
   ],
   "source": [
    "for i in range(1, 8, 2):\n",
    "    cross_validation_result = np.array(\n",
    "        cross_validation(faces_standardized, targets, KNN(k=i)))\n",
    "    print(cross_validation_result, cross_validation_result.mean(), sep=\"\\n\", end=\"\\n\\n\")"
   ]
  },
  {
   "cell_type": "code",
   "execution_count": 50,
   "metadata": {},
   "outputs": [
    {
     "name": "stdout",
     "output_type": "stream",
     "text": [
      "2600\n"
     ]
    }
   ],
   "source": [
    "print(len(faces))"
   ]
  },
  {
   "cell_type": "code",
   "execution_count": 55,
   "metadata": {},
   "outputs": [],
   "source": [
    "cv_indices = shuffle_indices(len(faces), total_steps=10)\n",
    "training_indices, test_indices = cross_validation_indices(0, cv_indices)"
   ]
  },
  {
   "cell_type": "code",
   "execution_count": 56,
   "metadata": {},
   "outputs": [],
   "source": [
    "training_faces = faces_standardized[training_indices]\n",
    "test_faces = faces_standardized[test_indices]"
   ]
  },
  {
   "cell_type": "code",
   "execution_count": 57,
   "metadata": {},
   "outputs": [],
   "source": [
    "pca = decomposition.PCA()\n",
    "pca.fit(training_faces)\n",
    "training_faces_pca = pca.transform(training_faces)\n",
    "test_faces_pca = pca.transform(test_faces)"
   ]
  },
  {
   "cell_type": "code",
   "execution_count": 59,
   "metadata": {},
   "outputs": [
    {
     "name": "stdout",
     "output_type": "stream",
     "text": [
      "1 0.711538461538\n3 0.476923076923\n5 0.392307692308\n7 0.361538461538\n"
     ]
    }
   ],
   "source": [
    "for i in range(1, 8, 2):\n",
    "    classifier = KNN(k=i)\n",
    "    classifier.fit(training_faces_pca, targets[training_indices])\n",
    "    score = classifier.score(test_faces_pca, targets[test_indices])\n",
    "    print(i, score)"
   ]
  },
  {
   "cell_type": "code",
   "execution_count": 60,
   "metadata": {},
   "outputs": [
    {
     "name": "stdout",
     "output_type": "stream",
     "text": [
      "1 0.711538461538\n3 0.469230769231\n5 0.388461538462\n7 0.365384615385\n"
     ]
    }
   ],
   "source": [
    "pca = decomposition.PCA(n_components=1000)\n",
    "pca.fit(training_faces)\n",
    "training_faces_pca = pca.transform(training_faces)\n",
    "test_faces_pca = pca.transform(test_faces)\n",
    "for i in range(1, 8, 2):\n",
    "    classifier = KNN(k=i)\n",
    "    classifier.fit(training_faces_pca, targets[training_indices])\n",
    "    score = classifier.score(test_faces_pca, targets[test_indices])\n",
    "    print(i, score)"
   ]
  },
  {
   "cell_type": "code",
   "execution_count": 61,
   "metadata": {},
   "outputs": [
    {
     "name": "stdout",
     "output_type": "stream",
     "text": [
      "1 0.715384615385\n3 0.457692307692\n5 0.396153846154\n7 0.361538461538\n"
     ]
    }
   ],
   "source": [
    "pca = decomposition.PCA(n_components=200)\n",
    "pca.fit(training_faces)\n",
    "training_faces_pca = pca.transform(training_faces)\n",
    "test_faces_pca = pca.transform(test_faces)\n",
    "for i in range(1, 8, 2):\n",
    "    classifier = KNN(k=i)\n",
    "    classifier.fit(training_faces_pca, targets[training_indices])\n",
    "    score = classifier.score(test_faces_pca, targets[test_indices])\n",
    "    print(i, score)"
   ]
  },
  {
   "cell_type": "code",
   "execution_count": 62,
   "metadata": {},
   "outputs": [
    {
     "name": "stdout",
     "output_type": "stream",
     "text": [
      "1 0.646153846154\n3 0.415384615385\n5 0.353846153846\n7 0.338461538462\n"
     ]
    }
   ],
   "source": [
    "pca = decomposition.PCA(n_components=50)\n",
    "pca.fit(training_faces)\n",
    "training_faces_pca = pca.transform(training_faces)\n",
    "test_faces_pca = pca.transform(test_faces)\n",
    "for i in range(1, 8, 2):\n",
    "    classifier = KNN(k=i)\n",
    "    classifier.fit(training_faces_pca, targets[training_indices])\n",
    "    score = classifier.score(test_faces_pca, targets[test_indices])\n",
    "    print(i, score)"
   ]
  },
  {
   "cell_type": "code",
   "execution_count": 63,
   "metadata": {},
   "outputs": [
    {
     "name": "stdout",
     "output_type": "stream",
     "text": [
      "1 0.676923076923\n3 0.442307692308\n5 0.380769230769\n7 0.338461538462\n"
     ]
    }
   ],
   "source": [
    "pca = decomposition.PCA(n_components=100)\n",
    "pca.fit(training_faces)\n",
    "training_faces_pca = pca.transform(training_faces)\n",
    "test_faces_pca = pca.transform(test_faces)\n",
    "for i in range(1, 8, 2):\n",
    "    classifier = KNN(k=i)\n",
    "    classifier.fit(training_faces_pca, targets[training_indices])\n",
    "    score = classifier.score(test_faces_pca, targets[test_indices])\n",
    "    print(i, score)"
   ]
  },
  {
   "cell_type": "code",
   "execution_count": null,
   "metadata": {},
   "outputs": [],
   "source": []
  }
 ],
 "metadata": {
  "kernelspec": {
   "display_name": "Python 2",
   "language": "python",
   "name": "python2"
  },
  "language_info": {
   "codemirror_mode": {
    "name": "ipython",
    "version": 2
   },
   "file_extension": ".py",
   "mimetype": "text/x-python",
   "name": "python",
   "nbconvert_exporter": "python",
   "pygments_lexer": "ipython2",
   "version": "2.7.6"
  }
 },
 "nbformat": 4,
 "nbformat_minor": 0
}
