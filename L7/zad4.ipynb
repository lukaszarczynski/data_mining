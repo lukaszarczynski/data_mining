{
 "cells": [
  {
   "cell_type": "code",
   "execution_count": 1,
   "metadata": {
    "collapsed": true
   },
   "outputs": [],
   "source": [
    "% matplotlib inline\n",
    "\n",
    "import scipy.io\n",
    "from matplotlib.pyplot import imshow\n",
    "import numpy as np\n",
    "\n",
    "from L5.knn import KNN\n",
    "from L7.face_recognition import FaceRecognition"
   ]
  },
  {
   "cell_type": "code",
   "execution_count": 2,
   "metadata": {},
   "outputs": [],
   "source": [
    "training_images = scipy.io.loadmat('L7/data/ReducedImagesForTraining.mat')[\"images\"]\n",
    "testing_images = scipy.io.loadmat('L7/data/ReducedImagesForTesting.mat')[\"images\"]"
   ]
  },
  {
   "cell_type": "code",
   "execution_count": 3,
   "metadata": {},
   "outputs": [],
   "source": [
    "image = testing_images.T[0]\n",
    "image_reshaped = image.reshape([60, 82]).T"
   ]
  },
  {
   "cell_type": "code",
   "execution_count": 4,
   "metadata": {},
   "outputs": [
    {
     "data": {
      "text/plain": [
       "<matplotlib.image.AxesImage at 0x7fd61241e668>"
      ]
     },
     "execution_count": 4,
     "metadata": {},
     "output_type": "execute_result"
    },
    {
     "data": {
      "image/png": "[encoded data removed]",
      "text/plain": [
       "<matplotlib.figure.Figure at 0x7fd64065e4e0>"
      ]
     },
     "metadata": {},
     "output_type": "display_data"
    }
   ],
   "source": [
    "imshow(image_reshaped, cmap=\"gray\")"
   ]
  },
  {
   "cell_type": "code",
   "execution_count": 5,
   "metadata": {
    "collapsed": true
   },
   "outputs": [],
   "source": [
    "# reverse_index = {}\n",
    "# for image_idx, image in enumerate(training_images.T):\n",
    "#     reverse_index[tuple(image)] = image_idx"
   ]
  },
  {
   "cell_type": "code",
   "execution_count": 6,
   "metadata": {},
   "outputs": [],
   "source": [
    "def person_id(image_idx, images_per_person=5):\n",
    "    return image_idx // images_per_person"
   ]
  },
  {
   "cell_type": "code",
   "execution_count": 7,
   "metadata": {},
   "outputs": [
    {
     "name": "stdout",
     "output_type": "stream",
     "text": [
      "[  0   1   2   3   4   5   6   7   8   9  10  11  12  13  14  15  16  17\n  18  19  20  21  22  23  24  25  26  27  28  29  30  31  32  33  34  35\n  36  37  38  39  40  41  42  43  44  45  46  47  48  49  50  51  52  53\n  54  55  56  57  58  59  60  61  62  63  64  65  66  67  68  69  70  71\n  72  73  74  75  76  77  78  79  80  81  82  83  84  85  86  87  88  89\n  90  91  92  93  94  95  96  97  98  99 100 101 102 103 104 105 106 107\n 108 109 110 111 112 113 114 115 116 117 118 119 120 121 122 123 124 125\n 126 127 128 129 130 131 132 133 134 135 136 137 138 139 140 141 142 143\n 144 145 146 147 148 149 150 151 152 153 154 155 156 157 158 159 160 161\n 162 163 164 165 166 167 168 169 170 171 172 173 174 175 176 177 178 179\n 180 181 182 183 184 185 186 187 188 189 190 191 192 193 194 195 196 197\n 198 199 200 201 202 203 204 205 206 207 208 209 210 211 212 213 214 215\n 216 217 218 219 220 221 222 223 224 225 226 227 228 229 230 231 232 233\n 234 235 236 237 238 239 240 241 242 243 244 245 246 247 248 249]\n"
     ]
    }
   ],
   "source": [
    "training_targets = np.array(range(training_images.shape[1]))\n",
    "print(training_targets)"
   ]
  },
  {
   "cell_type": "code",
   "execution_count": 8,
   "metadata": {},
   "outputs": [],
   "source": [
    "face_recognition = FaceRecognition()\n",
    "face_recognition.fit(training_images)"
   ]
  },
  {
   "cell_type": "code",
   "execution_count": 9,
   "metadata": {},
   "outputs": [],
   "source": [
    "# print(face_recognition.training_data.shape, face_recognition.testing_data.shape)\n",
    "predicted_faces = face_recognition.predict(testing_images)\n",
    "euclidean_distances = KNN(k=1).euclidean_distance(training_images.T, testing_images.T)"
   ]
  },
  {
   "cell_type": "code",
   "execution_count": 10,
   "metadata": {},
   "outputs": [
    {
     "name": "stdout",
     "output_type": "stream",
     "text": [
      "(250, 100)\n"
     ]
    }
   ],
   "source": [
    "print(euclidean_distances.shape)"
   ]
  },
  {
   "cell_type": "code",
   "execution_count": 11,
   "metadata": {},
   "outputs": [
    {
     "name": "stdout",
     "output_type": "stream",
     "text": [
      "pred. id\teucl. distance\tpr. pers.\tpers.\tcorrect\ttest id.\n157\t16088807\t31\t0\tFalse\t0\n159\t27316797\t31\t0\tFalse\t1\n120\t19559562\t24\t1\tFalse\t2\n9\t32155478\t1\t1\tTrue\t3\n157\t21622901\t31\t2\tFalse\t4\n159\t41696206\t31\t2\tFalse\t5\n120\t15760144\t24\t3\tFalse\t6\n174\t21399891\t34\t3\tFalse\t7\n190\t19386876\t38\t4\tFalse\t8\n157\t15070887\t31\t4\tFalse\t9\n27\t21204523\t5\t5\tTrue\t10\n29\t33359361\t5\t5\tTrue\t11\n157\t18563914\t31\t6\tFalse\t12\n159\t28402183\t31\t6\tFalse\t13\n61\t32160041\t12\t7\tFalse\t14\n64\t38315418\t12\t7\tFalse\t15\n90\t38641601\t18\t8\tFalse\t16\n44\t57631721\t8\t8\tTrue\t17\n147\t35691353\t29\t9\tFalse\t18\n149\t33271897\t29\t9\tFalse\t19\n145\t34359384\t29\t10\tFalse\t20\n149\t62178060\t29\t10\tFalse\t21\n160\t35808960\t32\t11\tFalse\t22\n164\t54127746\t32\t11\tFalse\t23\n157\t35474340\t31\t12\tFalse\t24\n159\t35198052\t31\t12\tFalse\t25\n120\t20697545\t24\t13\tFalse\t26\n164\t23681347\t32\t13\tFalse\t27\n162\t19867019\t32\t14\tFalse\t28\n164\t18851318\t32\t14\tFalse\t29\n90\t21229798\t18\t15\tFalse\t30\n94\t32820544\t18\t15\tFalse\t31\n157\t22671673\t31\t16\tFalse\t32\n159\t39616744\t31\t16\tFalse\t33\n120\t27591781\t24\t17\tFalse\t34\n9\t33972860\t1\t17\tFalse\t35\n90\t37822323\t18\t18\tTrue\t36\n94\t54000278\t18\t18\tTrue\t37\n162\t28889406\t32\t19\tFalse\t38\n159\t25513877\t31\t19\tFalse\t39\n157\t22900600\t31\t20\tFalse\t40\n159\t42057439\t31\t20\tFalse\t41\n157\t29432893\t31\t21\tFalse\t42\n159\t49363496\t31\t21\tFalse\t43\n0\t24393538\t0\t22\tFalse\t44\n4\t28783622\t0\t22\tFalse\t45\n162\t29002761\t32\t23\tFalse\t46\n164\t41969754\t32\t23\tFalse\t47\n157\t40477169\t31\t24\tFalse\t48\n159\t29799223\t31\t24\tFalse\t49\n41\t17522255\t8\t25\tFalse\t50\n129\t21132669\t25\t25\tTrue\t51\n160\t13783193\t32\t26\tFalse\t52\n160\t24076443\t32\t26\tFalse\t53\n145\t38472493\t29\t27\tFalse\t54\n145\t36112638\t29\t27\tFalse\t55\n120\t24438543\t24\t28\tFalse\t56\n64\t40923684\t12\t28\tFalse\t57\n145\t42738452\t29\t29\tTrue\t58\n149\t32569393\t29\t29\tTrue\t59\n162\t15175439\t32\t30\tFalse\t60\n164\t22916034\t32\t30\tFalse\t61\n157\t29922168\t31\t31\tTrue\t62\n159\t43924914\t31\t31\tTrue\t63\n162\t25271704\t32\t32\tTrue\t64\n164\t60044157\t32\t32\tTrue\t65\n147\t34141463\t29\t33\tFalse\t66\n159\t60398511\t31\t33\tFalse\t67\n162\t35068119\t32\t34\tFalse\t68\n164\t25101780\t32\t34\tFalse\t69\n157\t26946223\t31\t35\tFalse\t70\n159\t38715248\t31\t35\tFalse\t71\n162\t17992301\t32\t36\tFalse\t72\n164\t35390194\t32\t36\tFalse\t73\n189\t32436055\t37\t37\tTrue\t74\n189\t36051499\t37\t37\tTrue\t75\n157\t27991028\t31\t38\tFalse\t76\n159\t47024464\t31\t38\tFalse\t77\n0\t29162267\t0\t39\tFalse\t78\n164\t26435361\t32\t39\tFalse\t79\n145\t20650914\t29\t40\tFalse\t80\n234\t34220994\t46\t40\tFalse\t81\n157\t32395852\t31\t41\tFalse\t82\n159\t62194744\t31\t41\tFalse\t83\n105\t38119372\t21\t42\tFalse\t84\n105\t18080229\t21\t42\tFalse\t85\n90\t30122048\t18\t43\tFalse\t86\n64\t45273246\t12\t43\tFalse\t87\n157\t42314980\t31\t44\tFalse\t88\n164\t35070032\t32\t44\tFalse\t89\n90\t17636880\t18\t45\tFalse\t90\n29\t25576114\t5\t45\tFalse\t91\n230\t22668216\t46\t46\tTrue\t92\n159\t36977436\t31\t46\tFalse\t93\n245\t25861439\t49\t47\tFalse\t94\n239\t39236616\t47\t47\tTrue\t95\n157\t30311752\t31\t48\tFalse\t96\n159\t42448952\t31\t48\tFalse\t97\n157\t39603244\t31\t49\tFalse\t98\n159\t26979042\t31\t49\tFalse\t99\n"
     ]
    }
   ],
   "source": [
    "face_recognition.print_results(testing_images)"
   ]
  },
  {
   "cell_type": "code",
   "execution_count": 12,
   "metadata": {},
   "outputs": [
    {
     "name": "stdout",
     "output_type": "stream",
     "text": [
      "[ 0  0  0  0  0  1  1  1  1  1  2  2  2  2  2  3  3  3  3  3  4  4  4  4  4\n  5  5  5  5  5  6  6  6  6  6  7  7  7  7  7  8  8  8  8  8  9  9  9  9  9\n 10 10 10 10 10 11 11 11 11 11 12 12 12 12 12 13 13 13 13 13 14 14 14 14 14\n 15 15 15 15 15 16 16 16 16 16 17 17 17 17 17 18 18 18 18 18 19 19 19 19 19\n 20 20 20 20 20 21 21 21 21 21 22 22 22 22 22 23 23 23 23 23 24 24 24 24 24\n 25 25 25 25 25 26 26 26 26 26 27 27 27 27 27 28 28 28 28 28 29 29 29 29 29\n 30 30 30 30 30 31 31 31 31 31 32 32 32 32 32 33 33 33 33 33 34 34 34 34 34\n 35 35 35 35 35 36 36 36 36 36 37 37 37 37 37 38 38 38 38 38 39 39 39 39 39\n 40 40 40 40 40 41 41 41 41 41 42 42 42 42 42 43 43 43 43 43 44 44 44 44 44\n 45 45 45 45 45 46 46 46 46 46 47 47 47 47 47 48 48 48 48 48 49 49 49 49 49]\n[ 0  0  1  1  2  2  3  3  4  4  5  5  6  6  7  7  8  8  9  9 10 10 11 11 12\n 12 13 13 14 14 15 15 16 16 17 17 18 18 19 19 20 20 21 21 22 22 23 23 24 24\n 25 25 26 26 27 27 28 28 29 29 30 30 31 31 32 32 33 33 34 34 35 35 36 36 37\n 37 38 38 39 39 40 40 41 41 42 42 43 43 44 44 45 45 46 46 47 47 48 48 49 49]\n"
     ]
    }
   ],
   "source": [
    "training_targets_faces = np.array([5 * [i] for i in range(training_images.shape[1] // 5)]).flatten()\n",
    "testing_targets_faces = np.array([2 * [i] for i in range(testing_images.shape[1] // 2)]).flatten()\n",
    "print(training_targets_faces, testing_targets_faces, sep=\"\\n\")"
   ]
  },
  {
   "cell_type": "code",
   "execution_count": 13,
   "metadata": {},
   "outputs": [
    {
     "name": "stdout",
     "output_type": "stream",
     "text": [
      "0.17\n"
     ]
    }
   ],
   "source": [
    "print(face_recognition.score(testing_images))"
   ]
  },
  {
   "cell_type": "code",
   "execution_count": null,
   "metadata": {},
   "outputs": [],
   "source": []
  }
 ],
 "metadata": {
  "kernelspec": {
   "display_name": "Python 2",
   "language": "python",
   "name": "python2"
  },
  "language_info": {
   "codemirror_mode": {
    "name": "ipython",
    "version": 2
   },
   "file_extension": ".py",
   "mimetype": "text/x-python",
   "name": "python",
   "nbconvert_exporter": "python",
   "pygments_lexer": "ipython2",
   "version": "2.7.6"
  }
 },
 "nbformat": 4,
 "nbformat_minor": 0
}
