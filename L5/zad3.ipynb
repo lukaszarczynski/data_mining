{
 "cells": [
  {
   "cell_type": "heading",
   "metadata": {
    "collapsed": true
   },
   "level": 1,
   "source": [
    "Iris"
   ]
  },
  {
   "cell_type": "code",
   "execution_count": 5,
   "metadata": {},
   "outputs": [],
   "source": [
    "import random\n",
    "import numpy as np\n",
    "from sklearn import metrics\n",
    "\n",
    "\n",
    "def test_training_indices(train_size=100, data_size=150):\n",
    "    training_indices = [True] * train_size + [False] * (data_size - train_size)\n",
    "    random.shuffle(training_indices)\n",
    "    training_indices = np.array(training_indices)\n",
    "    test_indices = training_indices == False\n",
    "\n",
    "    return training_indices, test_indices\n",
    "\n",
    "\n",
    "def cross_validation_indices(current_step, total_steps=10, data_size=150):\n",
    "    training_indices = [True] * (current_step * data_size // total_steps)\n",
    "    range_len = (((current_step + 1) * data_size // total_steps) -\n",
    "                 (current_step * data_size // total_steps))\n",
    "    training_indices += [False] * range_len\n",
    "    training_indices += [True] * (data_size - len(training_indices))\n",
    "    training_indices = np.array(training_indices)\n",
    "    test_indices = training_indices == False\n",
    "\n",
    "    return training_indices, test_indices\n",
    "\n",
    "\n",
    "def cross_validation(data, labels, classifier, total_steps=10):\n",
    "    data_size = len(labels)\n",
    "    scores = []\n",
    "    for i in range(total_steps):\n",
    "        training_indices, test_indices = cross_validation_indices(i, total_steps, data_size)\n",
    "        classifier.fit(data[training_indices], labels[training_indices])\n",
    "        score = classifier.score(data[test_indices], labels[test_indices])\n",
    "        scores.append(score)\n",
    "    return scores\n",
    "\n",
    "\n",
    "def print_scores(classifier, data, labels, tested_variable):\n",
    "    print(tested_variable, end=\": \")\n",
    "    print(classifier.fit(data, labels).score(data, labels))\n",
    "    score = cross_validation(data, labels, classifier)\n",
    "    print(score, np.mean(score), \"\\n\", sep=\"\\n\")\n",
    "\n",
    "\n",
    "def confusion_matrix(classifier, data, targets):\n",
    "    training_indices, test_indices = test_training_indices(\n",
    "        data_size=len(targets),\n",
    "        train_size=len(targets) // 3)\n",
    "    classifier.fit(data[training_indices],\n",
    "                   targets[training_indices])\n",
    "    predicted_labels = classifier.predict(data[test_indices])\n",
    "    return metrics.confusion_matrix(targets[test_indices], predicted_labels)"
   ]
  },
  {
   "cell_type": "code",
   "execution_count": 6,
   "metadata": {},
   "outputs": [],
   "source": [
    "import numpy as np\n",
    "import matplotlib.pyplot as plt\n",
    "import pandas as pd\n",
    "\n",
    "from sklearn import ensemble\n",
    "\n",
    "# from L5.validation import test_training_indices, cross_validation"
   ]
  },
  {
   "cell_type": "code",
   "execution_count": 7,
   "metadata": {},
   "outputs": [
    {
     "data": {
      "text/html": [
       "<div>\n",
       "<style scoped>\n",
       "    .dataframe tbody tr th:only-of-type {\n",
       "        vertical-align: middle;\n",
       "    }\n",
       "\n",
       "    .dataframe tbody tr th {\n",
       "        vertical-align: top;\n",
       "    }\n",
       "\n",
       "    .dataframe thead th {\n",
       "        text-align: right;\n",
       "    }\n",
       "</style>\n",
       "<table border=\"1\" class=\"dataframe\">\n",
       "  <thead>\n",
       "    <tr style=\"text-align: right;\">\n",
       "      <th></th>\n",
       "      <th>sepal length (cm)</th>\n",
       "      <th>sepal width (cm)</th>\n",
       "      <th>petal length (cm)</th>\n",
       "      <th>petal width (cm)</th>\n",
       "      <th>species</th>\n",
       "    </tr>\n",
       "  </thead>\n",
       "  <tbody>\n",
       "    <tr>\n",
       "      <th>0</th>\n",
       "      <td>5.1</td>\n",
       "      <td>3.5</td>\n",
       "      <td>1.4</td>\n",
       "      <td>0.2</td>\n",
       "      <td>setosa</td>\n",
       "    </tr>\n",
       "    <tr>\n",
       "      <th>1</th>\n",
       "      <td>4.9</td>\n",
       "      <td>3.0</td>\n",
       "      <td>1.4</td>\n",
       "      <td>0.2</td>\n",
       "      <td>setosa</td>\n",
       "    </tr>\n",
       "    <tr>\n",
       "      <th>2</th>\n",
       "      <td>4.7</td>\n",
       "      <td>3.2</td>\n",
       "      <td>1.3</td>\n",
       "      <td>0.2</td>\n",
       "      <td>setosa</td>\n",
       "    </tr>\n",
       "    <tr>\n",
       "      <th>3</th>\n",
       "      <td>4.6</td>\n",
       "      <td>3.1</td>\n",
       "      <td>1.5</td>\n",
       "      <td>0.2</td>\n",
       "      <td>setosa</td>\n",
       "    </tr>\n",
       "    <tr>\n",
       "      <th>4</th>\n",
       "      <td>5.0</td>\n",
       "      <td>3.6</td>\n",
       "      <td>1.4</td>\n",
       "      <td>0.2</td>\n",
       "      <td>setosa</td>\n",
       "    </tr>\n",
       "  </tbody>\n",
       "</table>\n",
       "</div>"
      ],
      "text/plain": [
       "<div>\n",
       "<style scoped>\n",
       "    .dataframe tbody tr th:only-of-type {\n",
       "        vertical-align: middle;\n",
       "    }\n",
       "\n",
       "    .dataframe tbody tr th {\n",
       "        vertical-align: top;\n",
       "    }\n",
       "\n",
       "    .dataframe thead th {\n",
       "        text-align: right;\n",
       "    }\n",
       "</style>\n",
       "<table border=\"1\" class=\"dataframe\">\n",
       "  <thead>\n",
       "    <tr style=\"text-align: right;\">\n",
       "      <th></th>\n",
       "      <th>sepal length (cm)</th>\n",
       "      <th>sepal width (cm)</th>\n",
       "      <th>petal length (cm)</th>\n",
       "      <th>petal width (cm)</th>\n",
       "      <th>species</th>\n",
       "    </tr>\n",
       "  </thead>\n",
       "  <tbody>\n",
       "    <tr>\n",
       "      <th>0</th>\n",
       "      <td>5.1</td>\n",
       "      <td>3.5</td>\n",
       "      <td>1.4</td>\n",
       "      <td>0.2</td>\n",
       "      <td>setosa</td>\n",
       "    </tr>\n",
       "    <tr>\n",
       "      <th>1</th>\n",
       "      <td>4.9</td>\n",
       "      <td>3.0</td>\n",
       "      <td>1.4</td>\n",
       "      <td>0.2</td>\n",
       "      <td>setosa</td>\n",
       "    </tr>\n",
       "    <tr>\n",
       "      <th>2</th>\n",
       "      <td>4.7</td>\n",
       "      <td>3.2</td>\n",
       "      <td>1.3</td>\n",
       "      <td>0.2</td>\n",
       "      <td>setosa</td>\n",
       "    </tr>\n",
       "    <tr>\n",
       "      <th>3</th>\n",
       "      <td>4.6</td>\n",
       "      <td>3.1</td>\n",
       "      <td>1.5</td>\n",
       "      <td>0.2</td>\n",
       "      <td>setosa</td>\n",
       "    </tr>\n",
       "    <tr>\n",
       "      <th>4</th>\n",
       "      <td>5.0</td>\n",
       "      <td>3.6</td>\n",
       "      <td>1.4</td>\n",
       "      <td>0.2</td>\n",
       "      <td>setosa</td>\n",
       "    </tr>\n",
       "  </tbody>\n",
       "</table>\n",
       "</div>"
      ]
     },
     "execution_count": 7,
     "metadata": {},
     "output_type": "execute_result"
    }
   ],
   "source": [
    "from sklearn import datasets\n",
    "iris = datasets.load_iris()\n",
    "\n",
    "data = pd.DataFrame(iris.data, columns=iris.feature_names)\n",
    "data['species'] = pd.Categorical.from_codes(iris.target, iris.target_names)\n",
    "data.head()"
   ]
  },
  {
   "cell_type": "code",
   "execution_count": 8,
   "metadata": {},
   "outputs": [],
   "source": [
    "iris_labels = data['species']\n",
    "iris_data = data.drop('species', axis = 1)"
   ]
  },
  {
   "cell_type": "code",
   "execution_count": 9,
   "metadata": {},
   "outputs": [
    {
     "name": "stdout",
     "output_type": "stream",
     "text": [
      "1.0\n"
     ]
    },
    {
     "name": "stderr",
     "output_type": "stream",
     "text": [
      "/usr/local/lib/python3.6/dist-packages/sklearn/ensemble/forest.py:246: FutureWarning: The default value of n_estimators will change from 10 in version 0.20 to 100 in 0.22.\n  \"10 in version 0.20 to 100 in 0.22.\", FutureWarning)\n"
     ]
    }
   ],
   "source": [
    "random_forest_iris = ensemble.RandomForestClassifier()\n",
    "random_forest_iris.fit(iris_data, iris_labels)\n",
    "print(random_forest_iris.score(iris_data, iris_labels))"
   ]
  },
  {
   "cell_type": "code",
   "execution_count": 13,
   "metadata": {},
   "outputs": [
    {
     "data": {
      "text/plain": [
       "[DecisionTreeClassifier(class_weight=None, criterion='gini', max_depth=None,\n             max_features='auto', max_leaf_nodes=None,\n             min_impurity_decrease=0.0, min_impurity_split=None,\n             min_samples_leaf=1, min_samples_split=2,\n             min_weight_fraction_leaf=0.0, presort=False,\n             random_state=2084510836, splitter='best'),\n DecisionTreeClassifier(class_weight=None, criterion='gini', max_depth=None,\n             max_features='auto', max_leaf_nodes=None,\n             min_impurity_decrease=0.0, min_impurity_split=None,\n             min_samples_leaf=1, min_samples_split=2,\n             min_weight_fraction_leaf=0.0, presort=False,\n             random_state=1569780371, splitter='best'),\n DecisionTreeClassifier(class_weight=None, criterion='gini', max_depth=None,\n             max_features='auto', max_leaf_nodes=None,\n             min_impurity_decrease=0.0, min_impurity_split=None,\n             min_samples_leaf=1, min_samples_split=2,\n             min_weight_fraction_leaf=0.0, presort=False,\n             random_state=1977366353, splitter='best'),\n DecisionTreeClassifier(class_weight=None, criterion='gini', max_depth=None,\n             max_features='auto', max_leaf_nodes=None,\n             min_impurity_decrease=0.0, min_impurity_split=None,\n             min_samples_leaf=1, min_samples_split=2,\n             min_weight_fraction_leaf=0.0, presort=False,\n             random_state=1699716226, splitter='best'),\n DecisionTreeClassifier(class_weight=None, criterion='gini', max_depth=None,\n             max_features='auto', max_leaf_nodes=None,\n             min_impurity_decrease=0.0, min_impurity_split=None,\n             min_samples_leaf=1, min_samples_split=2,\n             min_weight_fraction_leaf=0.0, presort=False,\n             random_state=1212924509, splitter='best'),\n DecisionTreeClassifier(class_weight=None, criterion='gini', max_depth=None,\n             max_features='auto', max_leaf_nodes=None,\n             min_impurity_decrease=0.0, min_impurity_split=None,\n             min_samples_leaf=1, min_samples_split=2,\n             min_weight_fraction_leaf=0.0, presort=False,\n             random_state=1205815839, splitter='best'),\n DecisionTreeClassifier(class_weight=None, criterion='gini', max_depth=None,\n             max_features='auto', max_leaf_nodes=None,\n             min_impurity_decrease=0.0, min_impurity_split=None,\n             min_samples_leaf=1, min_samples_split=2,\n             min_weight_fraction_leaf=0.0, presort=False,\n             random_state=1060450480, splitter='best'),\n DecisionTreeClassifier(class_weight=None, criterion='gini', max_depth=None,\n             max_features='auto', max_leaf_nodes=None,\n             min_impurity_decrease=0.0, min_impurity_split=None,\n             min_samples_leaf=1, min_samples_split=2,\n             min_weight_fraction_leaf=0.0, presort=False,\n             random_state=615665808, splitter='best'),\n DecisionTreeClassifier(class_weight=None, criterion='gini', max_depth=None,\n             max_features='auto', max_leaf_nodes=None,\n             min_impurity_decrease=0.0, min_impurity_split=None,\n             min_samples_leaf=1, min_samples_split=2,\n             min_weight_fraction_leaf=0.0, presort=False,\n             random_state=934698617, splitter='best'),\n DecisionTreeClassifier(class_weight=None, criterion='gini', max_depth=None,\n             max_features='auto', max_leaf_nodes=None,\n             min_impurity_decrease=0.0, min_impurity_split=None,\n             min_samples_leaf=1, min_samples_split=2,\n             min_weight_fraction_leaf=0.0, presort=False,\n             random_state=1926753627, splitter='best')]"
      ]
     },
     "execution_count": 13,
     "metadata": {},
     "output_type": "execute_result"
    }
   ],
   "source": [
    "random_forest_iris.estimators_"
   ]
  },
  {
   "cell_type": "code",
   "execution_count": 37,
   "metadata": {},
   "outputs": [
    {
     "name": "stdout",
     "output_type": "stream",
     "text": [
      "50 [1. 1. 1. 1. 1. 2. 1. 1. 1. 1.]\n52 [1. 1. 1. 1. 1. 2. 1. 1. 1. 1.]\n56 [2. 1. 1. 1. 1. 1. 1. 1. 1. 1.]\n57 [1. 1. 2. 1. 2. 1. 1. 1. 1. 2.]\n68 [1. 1. 1. 1. 1. 1. 1. 2. 1. 1.]\n70 [1. 2. 1. 2. 1. 1. 1. 2. 1. 1.]\n72 [1. 2. 1. 1. 1. 1. 1. 2. 2. 1.]\n77 [2. 2. 1. 1. 2. 2. 1. 1. 1. 2.]\n83 [1. 2. 2. 1. 1. 1. 1. 1. 1. 2.]\n87 [1. 1. 1. 1. 1. 1. 1. 2. 1. 1.]\n97 [1. 1. 1. 1. 1. 1. 1. 2. 1. 1.]\n103 [2. 1. 2. 2. 2. 2. 2. 2. 2. 2.]\n106 [2. 2. 2. 1. 2. 1. 1. 2. 1. 2.]\n119 [2. 2. 1. 1. 2. 1. 2. 2. 2. 2.]\n126 [2. 2. 1. 2. 2. 2. 2. 2. 2. 2.]\n129 [2. 2. 2. 2. 2. 2. 1. 2. 2. 2.]\n133 [2. 2. 2. 2. 1. 1. 2. 2. 2. 2.]\n134 [2. 1. 2. 2. 2. 1. 1. 2. 2. 2.]\n138 [2. 2. 1. 2. 2. 2. 2. 2. 2. 2.]\n"
     ]
    }
   ],
   "source": [
    "predictions = []\n",
    "for decision_tree in random_forest_iris.estimators_:\n",
    "    predictions.append(decision_tree.predict(iris_data))\n",
    "# print(next(iris_data.iterrows()))\n",
    "# random_forest_iris.predict(iris_data)\n",
    "predictions_array = np.array(predictions)\n",
    "for i in range(len(iris_labels)):\n",
    "    if len(set(predictions_array[:, i])) != 1:\n",
    "        print(i, predictions_array[:, i])"
   ]
  },
  {
   "cell_type": "code",
   "execution_count": 40,
   "metadata": {},
   "outputs": [
    {
     "data": {
      "text/plain": [
       "(10, 150)"
      ]
     },
     "execution_count": 40,
     "metadata": {},
     "output_type": "execute_result"
    }
   ],
   "source": [
    "# np.array([True]).astype(int) + np.array([True]).astype(int)\n",
    "predictions_array.shape"
   ]
  },
  {
   "cell_type": "code",
   "execution_count": 55,
   "metadata": {},
   "outputs": [
    {
     "data": {
      "text/plain": [
       "array([[100., 100., 100., ...,   0.,   0.,   0.],\n       [100., 100., 100., ...,   0.,   0.,   0.],\n       [100., 100., 100., ...,   0.,   0.,   0.],\n       ...,\n       [  0.,   0.,   0., ..., 100., 100., 100.],\n       [  0.,   0.,   0., ..., 100., 100., 100.],\n       [  0.,   0.,   0., ..., 100., 100., 100.]])"
      ]
     },
     "execution_count": 55,
     "metadata": {},
     "output_type": "execute_result"
    }
   ],
   "source": [
    "proximity_matrix = np.zeros((len(iris_labels), len(iris_labels)))\n",
    "for tree_res_1 in predictions:\n",
    "    for tree_res_2 in predictions:\n",
    "        proximity_matrix += (np.array([tree_res_1]).T \n",
    "                             == np.array([tree_res_2])).astype(int)\n",
    "proximity_matrix"
   ]
  },
  {
   "cell_type": "code",
   "execution_count": 56,
   "metadata": {},
   "outputs": [],
   "source": [
    "import numpy as np\n",
    "\n",
    "\n",
    "class PCA:\n",
    "    def __init__(self):\n",
    "        self.data = None\n",
    "        self.transformed_data = None\n",
    "        self.dimension = None\n",
    "        self.pca_matrix = None\n",
    "        self.pca_matrix_inverse = None\n",
    "        self.eigenvalues = None\n",
    "        self._eigenvectors = None\n",
    "\n",
    "    def fit_transform(self, data):\n",
    "        self.data = data\n",
    "        self.dimension = data.shape[1]\n",
    "        data_standardized = PCA.standardize(self.data)\n",
    "        covariance = np.cov(data_standardized.T)\n",
    "        self.eigenvalues, self._eigenvectors = np.linalg.eig(covariance)\n",
    "        idx = self.eigenvalues.argsort()[::-1]\n",
    "        self.eigenvalues = self.eigenvalues[idx]\n",
    "        self._eigenvectors = self._eigenvectors[:, idx]\n",
    "        self.transformed_data = (data_standardized @ self._eigenvectors) / np.sqrt(self.eigenvalues)\n",
    "        self.pca_matrix = (np.identity(self.dimension) @ self._eigenvectors) / np.sqrt(self.eigenvalues)\n",
    "        self.pca_matrix_inverse = np.linalg.inv(self.pca_matrix)\n",
    "        return self\n",
    "\n",
    "    @staticmethod\n",
    "    def standardize(data):\n",
    "        return (data - data.mean(axis=0, keepdims=True)) / data.std(axis=0, keepdims=True)\n"
   ]
  },
  {
   "cell_type": "code",
   "execution_count": 58,
   "metadata": {},
   "outputs": [
    {
     "name": "stderr",
     "output_type": "stream",
     "text": [
      "/usr/local/lib/python3.6/dist-packages/numpy/core/numeric.py:553: ComplexWarning: Casting complex values to real discards the imaginary part\n  return array(a, dtype, copy=False, order=order, subok=True)\n"
     ]
    },
    {
     "data": {
      "image/png": "[encoded data removed]",
      "text/plain": [
       "<Figure size 432x288 with 1 Axes>"
      ]
     },
     "metadata": {},
     "output_type": "display_data"
    }
   ],
   "source": [
    "iris_pca = PCA().fit_transform(proximity_matrix)\n",
    "# print(iris_pca.eigenvalues)\n",
    "reduced_data = iris_pca.transformed_data.T[:2]\n",
    "\n",
    "from matplotlib import pyplot\n",
    "\n",
    "for target in set(iris.target):\n",
    "    correct_target = (target == iris.target)\n",
    "    pyplot.scatter(reduced_data[0][correct_target], reduced_data[1][correct_target], \n",
    "                   alpha=0.5)\n",
    "pyplot.show()"
   ]
  },
  {
   "cell_type": "code",
   "execution_count": 10,
   "metadata": {},
   "outputs": [
    {
     "name": "stdout",
     "output_type": "stream",
     "text": [
      "[1.0, 1.0, 1.0, 1.0, 0.8666666666666667, 0.8666666666666667, 1.0, 0.8666666666666667, 0.8, 0.9333333333333333]\n"
     ]
    },
    {
     "name": "stderr",
     "output_type": "stream",
     "text": [
      "/usr/local/lib/python3.6/dist-packages/sklearn/ensemble/forest.py:246: FutureWarning: The default value of n_estimators will change from 10 in version 0.20 to 100 in 0.22.\n  \"10 in version 0.20 to 100 in 0.22.\", FutureWarning)\n"
     ]
    }
   ],
   "source": [
    "print(cross_validation(iris_data, iris_labels,  ensemble.RandomForestClassifier()))"
   ]
  },
  {
   "cell_type": "code",
   "execution_count": 11,
   "metadata": {},
   "outputs": [
    {
     "name": "stdout",
     "output_type": "stream",
     "text": [
      "1.0\n"
     ]
    },
    {
     "name": "stderr",
     "output_type": "stream",
     "text": [
      "/usr/local/lib/python3.6/dist-packages/sklearn/ensemble/forest.py:246: FutureWarning: The default value of n_estimators will change from 10 in version 0.20 to 100 in 0.22.\n  \"10 in version 0.20 to 100 in 0.22.\", FutureWarning)\n"
     ]
    }
   ],
   "source": [
    "extremly_randomized_trees_iris = ensemble.ExtraTreesClassifier()\n",
    "extremly_randomized_trees_iris.fit(iris_data, iris_labels)\n",
    "print(extremly_randomized_trees_iris.score(iris_data, iris_labels))"
   ]
  },
  {
   "cell_type": "code",
   "execution_count": 12,
   "metadata": {},
   "outputs": [
    {
     "name": "stdout",
     "output_type": "stream",
     "text": [
      "[1.0, 1.0, 1.0, 1.0, 0.8666666666666667, 0.8666666666666667, 1.0, 0.8666666666666667, 0.8, 1.0]\n"
     ]
    },
    {
     "name": "stderr",
     "output_type": "stream",
     "text": [
      "/usr/local/lib/python3.6/dist-packages/sklearn/ensemble/forest.py:246: FutureWarning: The default value of n_estimators will change from 10 in version 0.20 to 100 in 0.22.\n  \"10 in version 0.20 to 100 in 0.22.\", FutureWarning)\n"
     ]
    }
   ],
   "source": [
    "print(cross_validation(iris_data, iris_labels, ensemble.ExtraTreesClassifier()))"
   ]
  },
  {
   "cell_type": "heading",
   "metadata": {},
   "level": 1,
   "source": [
    "Titanic"
   ]
  },
  {
   "cell_type": "code",
   "execution_count": 68,
   "metadata": {},
   "outputs": [
    {
     "name": "stdout",
     "output_type": "stream",
     "text": [
      "     Survived  Pclass  Sex   Age  SibSp  Parch      Fare  Embarked\n0           0       3    1  22.0      1      0    7.2500         2\n1           1       1    0  38.0      1      0   71.2833         0\n2           1       3    0  26.0      0      0    7.9250         2\n3           1       1    0  35.0      1      0   53.1000         2\n4           0       3    1  35.0      0      0    8.0500         2\n6           0       1    1  54.0      0      0   51.8625         2\n7           0       3    1   2.0      3      1   21.0750         2\n8           1       3    0  27.0      0      2   11.1333         2\n9           1       2    0  14.0      1      0   30.0708         0\n10          1       3    0   4.0      1      1   16.7000         2\n11          1       1    0  58.0      0      0   26.5500         2\n12          0       3    1  20.0      0      0    8.0500         2\n13          0       3    1  39.0      1      5   31.2750         2\n14          0       3    0  14.0      0      0    7.8542         2\n15          1       2    0  55.0      0      0   16.0000         2\n16          0       3    1   2.0      4      1   29.1250         1\n18          0       3    0  31.0      1      0   18.0000         2\n20          0       2    1  35.0      0      0   26.0000         2\n21          1       2    1  34.0      0      0   13.0000         2\n22          1       3    0  15.0      0      0    8.0292         1\n23          1       1    1  28.0      0      0   35.5000         2\n24          0       3    0   8.0      3      1   21.0750         2\n25          1       3    0  38.0      1      5   31.3875         2\n27          0       1    1  19.0      3      2  263.0000         2\n30          0       1    1  40.0      0      0   27.7208         0\n33          0       2    1  66.0      0      0   10.5000         2\n34          0       1    1  28.0      1      0   82.1708         0\n35          0       1    1  42.0      1      0   52.0000         2\n37          0       3    1  21.0      0      0    8.0500         2\n38          0       3    0  18.0      2      0   18.0000         2\n..        ...     ...  ...   ...    ...    ...       ...       ...\n122         0       2    1  32.5      1      0   30.0708         0\n123         1       2    0  32.5      0      0   13.0000         2\n124         0       1    1  54.0      0      1   77.2875         2\n125         1       3    1  12.0      1      0   11.2417         0\n127         1       3    1  24.0      0      0    7.1417         2\n129         0       3    1  45.0      0      0    6.9750         2\n130         0       3    1  33.0      0      0    7.8958         0\n131         0       3    1  20.0      0      0    7.0500         2\n132         0       3    0  47.0      1      0   14.5000         2\n133         1       2    0  29.0      1      0   26.0000         2\n134         0       2    1  25.0      0      0   13.0000         2\n135         0       2    1  23.0      0      0   15.0458         0\n136         1       1    0  19.0      0      2   26.2833         2\n137         0       1    1  37.0      1      0   53.1000         2\n138         0       3    1  16.0      0      0    9.2167         2\n139         0       1    1  24.0      0      0   79.2000         0\n141         1       3    0  22.0      0      0    7.7500         2\n142         1       3    0  24.0      1      0   15.8500         2\n143         0       3    1  19.0      0      0    6.7500         1\n144         0       2    1  18.0      0      0   11.5000         2\n145         0       2    1  19.0      1      1   36.7500         2\n146         1       3    1  27.0      0      0    7.7958         2\n147         0       3    0   9.0      2      2   34.3750         2\n148         0       2    1  36.5      0      2   26.0000         2\n149         0       2    1  42.0      0      0   13.0000         2\n150         0       2    1  51.0      0      0   12.5250         2\n151         1       1    0  22.0      1      0   66.6000         2\n152         0       3    1  55.5      0      0    8.0500         2\n153         0       3    1  40.5      0      2   14.5000         2\n155         0       1    1  51.0      0      1   61.3792         0\n\n[125 rows x 8 columns]\n"
     ]
    }
   ],
   "source": [
    "data = pd.read_csv(\"/home/lukasz/Downloads/titanic.csv\", sep='\\t')\n",
    "data = data.drop(['PassengerId', 'Name', 'Ticket', 'Cabin'], axis = 1)\n",
    "data = data.dropna()\n",
    "data['Sex'] = pd.Categorical(data['Sex']).codes\n",
    "data['Embarked'] = pd.Categorical(data['Embarked']).codes\n",
    "print(data)"
   ]
  },
  {
   "cell_type": "code",
   "execution_count": 69,
   "metadata": {},
   "outputs": [],
   "source": [
    "titanic_labels = data['Survived']\n",
    "titanic_data = data.drop('Survived', axis = 1)"
   ]
  },
  {
   "cell_type": "code",
   "execution_count": 70,
   "metadata": {},
   "outputs": [
    {
     "name": "stdout",
     "output_type": "stream",
     "text": [
      "0.952\n"
     ]
    },
    {
     "name": "stderr",
     "output_type": "stream",
     "text": [
      "/usr/local/lib/python3.6/dist-packages/sklearn/ensemble/forest.py:246: FutureWarning: The default value of n_estimators will change from 10 in version 0.20 to 100 in 0.22.\n  \"10 in version 0.20 to 100 in 0.22.\", FutureWarning)\n"
     ]
    }
   ],
   "source": [
    "random_forest_titanic = ensemble.RandomForestClassifier()\n",
    "random_forest_titanic.fit(titanic_data, titanic_labels)\n",
    "print(random_forest_titanic.score(titanic_data, titanic_labels))"
   ]
  },
  {
   "cell_type": "code",
   "execution_count": 71,
   "metadata": {},
   "outputs": [
    {
     "name": "stdout",
     "output_type": "stream",
     "text": [
      "[0.75, 0.6153846153846154, 0.6666666666666666, 1.0, 0.5, 0.6923076923076923, 0.8333333333333334, 0.7692307692307693, 0.6666666666666666, 0.8461538461538461]\n"
     ]
    },
    {
     "name": "stderr",
     "output_type": "stream",
     "text": [
      "/usr/local/lib/python3.6/dist-packages/sklearn/ensemble/forest.py:246: FutureWarning: The default value of n_estimators will change from 10 in version 0.20 to 100 in 0.22.\n  \"10 in version 0.20 to 100 in 0.22.\", FutureWarning)\n"
     ]
    }
   ],
   "source": [
    "print(cross_validation(titanic_data, titanic_labels, ensemble.RandomForestClassifier()))"
   ]
  },
  {
   "cell_type": "code",
   "execution_count": 73,
   "metadata": {},
   "outputs": [
    {
     "name": "stdout",
     "output_type": "stream",
     "text": [
      "0 [0. 0. 0. 0. 0. 0. 0. 0. 1. 0.]\n1 [1. 1. 1. 1. 1. 0. 1. 1. 1. 1.]\n2 [1. 1. 1. 0. 1. 1. 1. 1. 1. 1.]\n9 [1. 0. 1. 1. 1. 1. 0. 1. 1. 0.]\n12 [0. 0. 1. 0. 0. 0. 0. 0. 1. 0.]\n13 [1. 0. 1. 0. 0. 0. 0. 1. 1. 0.]\n16 [1. 1. 1. 0. 1. 1. 0. 0. 0. 1.]\n18 [0. 0. 1. 0. 0. 0. 1. 1. 0. 1.]\n19 [1. 1. 1. 1. 1. 1. 0. 0. 1. 1.]\n20 [0. 1. 1. 0. 1. 1. 1. 1. 1. 1.]\n24 [0. 0. 0. 0. 0. 0. 0. 0. 1. 0.]\n26 [0. 0. 0. 1. 0. 0. 0. 0. 0. 0.]\n30 [0. 0. 0. 1. 1. 1. 0. 0. 1. 1.]\n31 [1. 0. 0. 0. 0. 0. 0. 0. 0. 0.]\n32 [0. 0. 0. 0. 1. 1. 0. 1. 0. 1.]\n34 [1. 0. 1. 1. 1. 1. 1. 1. 1. 1.]\n37 [0. 0. 0. 0. 1. 0. 0. 1. 1. 0.]\n38 [1. 1. 1. 1. 1. 1. 1. 1. 0. 1.]\n39 [1. 1. 1. 1. 1. 1. 1. 1. 0. 1.]\n41 [1. 1. 1. 1. 1. 1. 0. 1. 1. 1.]\n42 [1. 0. 0. 0. 0. 0. 0. 0. 0. 0.]\n50 [1. 0. 1. 0. 1. 1. 1. 1. 1. 1.]\n51 [0. 0. 0. 0. 0. 0. 0. 0. 0. 1.]\n52 [0. 0. 0. 1. 0. 0. 0. 0. 0. 0.]\n54 [0. 0. 0. 0. 0. 0. 0. 0. 0. 1.]\n56 [0. 0. 1. 1. 1. 1. 0. 0. 1. 1.]\n57 [0. 1. 0. 0. 0. 1. 1. 0. 1. 1.]\n58 [0. 0. 0. 0. 0. 0. 1. 1. 1. 1.]\n59 [1. 1. 1. 1. 1. 1. 1. 0. 1. 1.]\n61 [1. 0. 0. 1. 0. 0. 1. 0. 0. 0.]\n62 [0. 0. 0. 0. 0. 0. 0. 1. 0. 0.]\n63 [1. 1. 0. 1. 1. 1. 1. 0. 1. 1.]\n64 [1. 0. 1. 0. 1. 1. 1. 1. 0. 1.]\n66 [1. 0. 1. 0. 1. 1. 1. 1. 1. 0.]\n67 [0. 0. 0. 0. 0. 0. 0. 0. 0. 1.]\n69 [0. 0. 0. 0. 0. 0. 0. 1. 0. 0.]\n71 [0. 0. 0. 0. 0. 1. 0. 0. 0. 0.]\n73 [0. 0. 0. 0. 0. 0. 0. 0. 1. 0.]\n74 [1. 1. 0. 1. 1. 0. 1. 1. 1. 1.]\n77 [1. 0. 0. 0. 0. 1. 0. 1. 1. 0.]\n78 [0. 0. 0. 0. 0. 0. 0. 0. 0. 1.]\n80 [0. 0. 0. 0. 0. 0. 0. 0. 1. 0.]\n81 [1. 0. 0. 0. 0. 0. 0. 0. 0. 0.]\n82 [1. 0. 1. 1. 1. 1. 0. 1. 1. 1.]\n85 [0. 0. 0. 0. 0. 1. 0. 0. 0. 0.]\n88 [1. 1. 0. 0. 0. 0. 0. 0. 0. 0.]\n90 [0. 1. 0. 0. 0. 0. 0. 0. 0. 0.]\n91 [0. 0. 0. 0. 0. 0. 0. 1. 0. 0.]\n92 [0. 0. 0. 1. 0. 0. 0. 0. 0. 0.]\n94 [0. 0. 0. 0. 0. 1. 0. 0. 0. 0.]\n98 [1. 1. 1. 0. 1. 1. 0. 1. 0. 1.]\n99 [0. 0. 0. 1. 0. 1. 1. 0. 1. 1.]\n102 [0. 0. 0. 0. 0. 1. 0. 0. 1. 0.]\n103 [1. 0. 0. 0. 0. 0. 1. 0. 0. 1.]\n104 [1. 1. 1. 1. 1. 1. 1. 1. 0. 1.]\n105 [0. 0. 0. 1. 0. 0. 0. 0. 0. 1.]\n106 [0. 0. 0. 0. 0. 0. 0. 0. 0. 1.]\n110 [0. 0. 0. 1. 0. 0. 0. 0. 0. 0.]\n111 [1. 0. 1. 1. 1. 1. 1. 1. 1. 1.]\n113 [0. 0. 0. 0. 0. 1. 0. 0. 0. 1.]\n114 [0. 0. 0. 0. 0. 0. 0. 0. 0. 1.]\n115 [0. 0. 0. 0. 0. 0. 0. 0. 0. 1.]\n116 [1. 1. 1. 0. 1. 1. 1. 1. 1. 1.]\n"
     ]
    }
   ],
   "source": [
    "predictions_t = []\n",
    "for decision_tree in random_forest_titanic.estimators_:\n",
    "    predictions_t.append(decision_tree.predict(titanic_data))\n",
    "# print(next(iris_data.iterrows()))\n",
    "# random_forest_iris.predict(iris_data)\n",
    "predictions_array_t = np.array(predictions_t)\n",
    "for i in range(len(titanic_labels)):\n",
    "    if len(set(predictions_array_t[:, i])) != 1:\n",
    "        print(i, predictions_array_t[:, i])"
   ]
  },
  {
   "cell_type": "code",
   "execution_count": 74,
   "metadata": {},
   "outputs": [
    {
     "data": {
      "text/plain": [
       "array([[ 82.,  18.,  18., ...,  90.,  90.,  90.],\n       [ 18.,  82.,  82., ...,  10.,  10.,  10.],\n       [ 18.,  82.,  82., ...,  10.,  10.,  10.],\n       ...,\n       [ 90.,  10.,  10., ..., 100., 100., 100.],\n       [ 90.,  10.,  10., ..., 100., 100., 100.],\n       [ 90.,  10.,  10., ..., 100., 100., 100.]])"
      ]
     },
     "execution_count": 74,
     "metadata": {},
     "output_type": "execute_result"
    }
   ],
   "source": [
    "proximity_matrix_t = np.zeros((len(titanic_labels), len(titanic_labels)))\n",
    "for tree_res_1 in predictions_t:\n",
    "    for tree_res_2 in predictions_t:\n",
    "        proximity_matrix_t += (np.array([tree_res_1]).T \n",
    "                             == np.array([tree_res_2])).astype(int)\n",
    "proximity_matrix_t"
   ]
  },
  {
   "cell_type": "code",
   "execution_count": 90,
   "metadata": {},
   "outputs": [
    {
     "data": {
      "image/png": "[encoded data removed]",
      "text/plain": [
       "<Figure size 432x288 with 1 Axes>"
      ]
     },
     "metadata": {},
     "output_type": "display_data"
    }
   ],
   "source": [
    "from sklearn.decomposition import PCA as sk_PCA\n",
    "\n",
    "titanic_pca = sk_PCA().fit_transform(proximity_matrix_t)\n",
    "# print(iris_pca.eigenvalues)\n",
    "reduced_data = titanic_pca.T[:2].astype(float)\n",
    "# print(reduced_data)\n",
    "from matplotlib import pyplot\n",
    "\n",
    "for target in set(titanic_labels):\n",
    "    correct_target = (target == titanic_labels)\n",
    "    pyplot.scatter(reduced_data[0][correct_target], reduced_data[1][correct_target], \n",
    "                   alpha=0.5)\n",
    "pyplot.show()"
   ]
  },
  {
   "cell_type": "code",
   "execution_count": 82,
   "metadata": {},
   "outputs": [
    {
     "name": "stderr",
     "output_type": "stream",
     "text": [
      "/usr/lib/python3/dist-packages/ipykernel_launcher.py:1: ComplexWarning: Casting complex values to real discards the imaginary part\n  \"\"\"Entry point for launching an IPython kernel.\n"
     ]
    },
    {
     "data": {
      "text/plain": [
       "array([[ 1.40874019,  1.40874019,  1.40874019,  1.40874019,  1.40874019,\n         1.40874019,  1.40874019,  1.40874019,  1.40874019,  1.40874019,\n         1.40874019,  1.40874019,  1.40874019,  1.40874019,  1.40874019,\n         1.40874019,  1.40874019,  1.40874019,  1.40874019,  1.40874019,\n         1.40874019,  1.40874019,  1.40874019,  1.40874019,  1.40874019,\n         1.40874019,  1.40874019,  1.40874019,  1.40874019,  1.40874019,\n         1.40874019,  1.40874019,  1.40874019,  1.40874019,  1.40874019,\n         1.40874019,  1.40874019,  1.40874019,  1.40874019,  1.40874019,\n         1.40874019,  1.40874019,  1.40874019,  1.40874019,  1.40874019,\n         1.40874019,  1.40874019,  1.40874019,  1.40874019,  1.40874019,\n        -0.66993262, -0.66147133, -0.66993262, -0.66147133, -0.66147133,\n        -0.66147133, -0.66993262, -0.68685521, -0.66147133, -0.66147133,\n        -0.66147133, -0.66147133, -0.66147133, -0.66147133, -0.66147133,\n        -0.66147133, -0.66147133, -0.66147133, -0.66993262, -0.66147133,\n        -0.68685521, -0.66147133, -0.68685521, -0.66147133, -0.66147133,\n        -0.66147133, -0.66147133, -0.7037778 , -0.66147133, -0.66147133,\n        -0.66147133, -0.66147133, -0.66147133, -0.68685521, -0.66147133,\n        -0.66147133, -0.66147133, -0.66993262, -0.66147133, -0.66147133,\n        -0.66147133, -0.66147133, -0.66147133, -0.66147133, -0.66147133,\n        -0.66147133, -0.66147133, -0.66993262, -0.66147133, -0.66147133,\n        -0.74608428, -0.74608428, -0.74608428, -0.73762298, -0.74608428,\n        -0.74608428, -0.7122391 , -0.74608428, -0.74608428, -0.74608428,\n        -0.74608428, -0.74608428, -0.74608428, -0.74608428, -0.74608428,\n        -0.74608428, -0.74608428, -0.74608428, -0.74608428, -0.72070039,\n        -0.74608428, -0.74608428, -0.74608428, -0.74608428, -0.74608428,\n        -0.74608428, -0.73762298, -0.74608428, -0.74608428, -0.73762298,\n        -0.74608428, -0.74608428, -0.74608428, -0.72916169, -0.72070039,\n        -0.74608428, -0.74608428, -0.74608428, -0.73762298, -0.74608428,\n        -0.74608428, -0.74608428, -0.74608428, -0.74608428, -0.74608428,\n        -0.74608428, -0.74608428, -0.74608428, -0.74608428, -0.74608428],\n       [-0.04601897, -0.04601897, -0.04601897, -0.04601897, -0.04601897,\n        -0.04601897, -0.04601897, -0.04601897, -0.04601897, -0.04601897,\n        -0.04601897, -0.04601897, -0.04601897, -0.04601897, -0.04601897,\n        -0.04601897, -0.04601897, -0.04601897, -0.04601897, -0.04601897,\n        -0.04601897, -0.04601897, -0.04601897, -0.04601897, -0.04601897,\n        -0.04601897, -0.04601897, -0.04601897, -0.04601897, -0.04601897,\n        -0.04601897, -0.04601897, -0.04601897, -0.04601897, -0.04601897,\n        -0.04601897, -0.04601897, -0.04601897, -0.04601897, -0.04601897,\n        -0.04601897, -0.04601897, -0.04601897, -0.04601897, -0.04601897,\n        -0.04601897, -0.04601897, -0.04601897, -0.04601897, -0.04601897,\n         1.07721492,  1.33623345,  1.07721492,  1.33623345,  1.33623345,\n         1.33623345,  1.07721492,  0.55917785,  1.33623345,  1.33623345,\n         1.33623345,  1.33623345,  1.33623345,  1.33623345,  1.33623345,\n         1.33623345,  1.33623345,  1.33623345,  1.07721492,  1.33623345,\n         0.55917785,  1.33623345,  0.55917785,  1.33623345,  1.33623345,\n         1.33623345,  1.33623345,  0.04114078,  1.33623345,  1.33623345,\n         1.33623345,  1.33623345,  1.33623345,  0.55917785,  1.33623345,\n         1.33623345,  1.33623345,  1.07721492,  1.33623345,  1.33623345,\n         1.33623345,  1.33623345,  1.33623345,  1.33623345,  1.33623345,\n         1.33623345,  1.33623345,  1.07721492,  1.33623345,  1.33623345,\n        -1.25395189, -1.25395189, -1.25395189, -0.99493335, -1.25395189,\n        -1.25395189, -0.21787775, -1.25395189, -1.25395189, -1.25395189,\n        -1.25395189, -1.25395189, -1.25395189, -1.25395189, -1.25395189,\n        -1.25395189, -1.25395189, -1.25395189, -1.25395189, -0.47689629,\n        -1.25395189, -1.25395189, -1.25395189, -1.25395189, -1.25395189,\n        -1.25395189, -0.99493335, -1.25395189, -1.25395189, -0.99493335,\n        -1.25395189, -1.25395189, -1.25395189, -0.73591482, -0.47689629,\n        -1.25395189, -1.25395189, -1.25395189, -0.99493335, -1.25395189,\n        -1.25395189, -1.25395189, -1.25395189, -1.25395189, -1.25395189,\n        -1.25395189, -1.25395189, -1.25395189, -1.25395189, -1.25395189]])"
      ]
     },
     "execution_count": 82,
     "metadata": {},
     "output_type": "execute_result"
    }
   ],
   "source": [
    "reduced_data.astype(float)"
   ]
  },
  {
   "cell_type": "code",
   "execution_count": 20,
   "metadata": {},
   "outputs": [
    {
     "name": "stdout",
     "output_type": "stream",
     "text": [
      "0.98595505618\n"
     ]
    }
   ],
   "source": [
    "extremly_randomized_trees_titanic = ensemble.ExtraTreesClassifier()\n",
    "extremly_randomized_trees_titanic.fit(titanic_data, titanic_labels)\n",
    "print(extremly_randomized_trees_titanic.score(titanic_data, titanic_labels))"
   ]
  },
  {
   "cell_type": "code",
   "execution_count": 22,
   "metadata": {},
   "outputs": [
    {
     "name": "stdout",
     "output_type": "stream",
     "text": [
      "[0.71830985915492962, 0.76056338028169013, 0.74647887323943662, 0.78873239436619713, 0.80555555555555558, 0.76056338028169013, 0.71830985915492962, 0.80281690140845074, 0.76056338028169013, 0.83333333333333337]\n"
     ]
    }
   ],
   "source": [
    "print(cross_validation(titanic_data, titanic_labels, ensemble.ExtraTreesClassifier()))"
   ]
  },
  {
   "cell_type": "code",
   "execution_count": 6,
   "metadata": {},
   "outputs": [
    {
     "name": "stdout",
     "output_type": "stream",
     "text": [
      "0.98595505618\n"
     ]
    }
   ],
   "source": [
    "extremly_randomized_trees_titanic = ensemble.ExtraTreesClassifier(n_estimators=25)\n",
    "extremly_randomized_trees_titanic.fit(titanic_data, titanic_labels)\n",
    "print(extremly_randomized_trees_titanic.score(titanic_data, titanic_labels))"
   ]
  },
  {
   "cell_type": "code",
   "execution_count": 7,
   "metadata": {},
   "outputs": [
    {
     "name": "stdout",
     "output_type": "stream",
     "text": [
      "0.984550561798\n"
     ]
    }
   ],
   "source": [
    "random_forest_titanic = ensemble.RandomForestClassifier(n_estimators=25)\n",
    "random_forest_titanic.fit(titanic_data, titanic_labels)\n",
    "print(random_forest_titanic.score(titanic_data, titanic_labels))"
   ]
  },
  {
   "cell_type": "code",
   "execution_count": 8,
   "metadata": {},
   "outputs": [
    {
     "name": "stdout",
     "output_type": "stream",
     "text": [
      "[0.76056338028169013, 0.81690140845070425, 0.76056338028169013, 0.78873239436619713, 0.86111111111111116, 0.81690140845070425, 0.74647887323943662, 0.76056338028169013, 0.78873239436619713, 0.875]\n"
     ]
    }
   ],
   "source": [
    "print(cross_validation(titanic_data, titanic_labels, \n",
    "                       ensemble.RandomForestClassifier(n_estimators=25)))"
   ]
  },
  {
   "cell_type": "code",
   "execution_count": null,
   "metadata": {},
   "outputs": [],
   "source": []
  }
 ],
 "metadata": {
  "kernelspec": {
   "display_name": "Python 2",
   "language": "python",
   "name": "python2"
  },
  "language_info": {
   "codemirror_mode": {
    "name": "ipython",
    "version": 2
   },
   "file_extension": ".py",
   "mimetype": "text/x-python",
   "name": "python",
   "nbconvert_exporter": "python",
   "pygments_lexer": "ipython2",
   "version": "2.7.6"
  }
 },
 "nbformat": 4,
 "nbformat_minor": 0
}
