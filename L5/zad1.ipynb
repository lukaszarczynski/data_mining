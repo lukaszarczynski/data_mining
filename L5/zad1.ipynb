{
 "cells": [
  {
   "cell_type": "code",
   "execution_count": 1,
   "metadata": {
    "collapsed": true
   },
   "outputs": [],
   "source": [
    "import pandas\n",
    "import random\n",
    "import numpy as np\n",
    "\n",
    "from sklearn import datasets\n",
    "from matplotlib import pyplot\n",
    "\n",
    "from L5.knn import KNN\n",
    "from L5.validation import cross_validation, test_training_indices\n",
    "\n",
    "# import L5.validation as validation\n",
    "# import importlib\n",
    "# importlib.reload(validation)"
   ]
  },
  {
   "cell_type": "heading",
   "metadata": {},
   "level": 1,
   "source": [
    "Iris"
   ]
  },
  {
   "cell_type": "code",
   "execution_count": 2,
   "metadata": {},
   "outputs": [],
   "source": [
    "iris = datasets.load_iris()"
   ]
  },
  {
   "cell_type": "code",
   "execution_count": 3,
   "metadata": {},
   "outputs": [
    {
     "name": "stdout",
     "output_type": "stream",
     "text": [
      "0.96\n"
     ]
    }
   ],
   "source": [
    "knn = KNN(k=3).fit(iris.data, iris.target)\n",
    "print(knn.score(iris.data, iris.target))"
   ]
  },
  {
   "cell_type": "code",
   "execution_count": 4,
   "metadata": {},
   "outputs": [
    {
     "name": "stdout",
     "output_type": "stream",
     "text": [
      "1 0.98\n2 0.98\n3 0.96\n4 0.96\n5 0.96\n6 0.96\n7 0.94\n8 0.98\n9 0.96\n10 0.96\n"
     ]
    }
   ],
   "source": [
    "training_indices, test_indices = test_training_indices()\n",
    "for k in range(1, 11):\n",
    "    knn_test = KNN(k=k).fit(iris.data[training_indices], iris.target[training_indices])\n",
    "    test_labels = iris.target[test_indices]\n",
    "    print(k, knn_test.score(iris.data[test_indices], test_labels))"
   ]
  },
  {
   "cell_type": "code",
   "execution_count": 6,
   "metadata": {},
   "outputs": [
    {
     "name": "stdout",
     "output_type": "stream",
     "text": [
      "[ 1.          1.          1.          1.          0.86666667  0.86666667\n  1.          0.86666667  0.86666667  1.        ]\n"
     ]
    }
   ],
   "source": [
    "knn_cross_validation = KNN(k=3)\n",
    "cross_validation_results = cross_validation(iris.data, iris.target,\n",
    "                                            knn_cross_validation)\n",
    "print(np.array(cross_validation_results))"
   ]
  },
  {
   "cell_type": "heading",
   "metadata": {},
   "level": 1,
   "source": [
    "Handwritten Digits"
   ]
  },
  {
   "cell_type": "code",
   "execution_count": 7,
   "metadata": {},
   "outputs": [],
   "source": [
    "digits = pandas.read_csv('L5/data/optdigits.tra', sep=',', header=None)"
   ]
  },
  {
   "cell_type": "code",
   "execution_count": 27,
   "metadata": {
    "collapsed": false
   },
   "outputs": [
    {
     "name": "stdout",
     "output_type": "stream",
     "text": [
      "3823\n"
     ]
    }
   ],
   "source": [
    "digits_labels = digits.loc[:, 64].values\n",
    "digits_data = digits.loc[:, :63].values\n",
    "print(len(digits_data))"
   ]
  },
  {
   "cell_type": "code",
   "execution_count": 31,
   "metadata": {},
   "outputs": [
    {
     "name": "stdout",
     "output_type": "stream",
     "text": [
      "1 0.986656200942\n"
     ]
    },
    {
     "name": "stdout",
     "output_type": "stream",
     "text": [
      "2 0.981161695447\n"
     ]
    },
    {
     "name": "stdout",
     "output_type": "stream",
     "text": [
      "3 0.983516483516\n"
     ]
    },
    {
     "name": "stdout",
     "output_type": "stream",
     "text": [
      "4 0.981161695447\n"
     ]
    },
    {
     "name": "stdout",
     "output_type": "stream",
     "text": [
      "5 0.981946624804\n"
     ]
    },
    {
     "name": "stdout",
     "output_type": "stream",
     "text": [
      "6 0.981946624804\n"
     ]
    },
    {
     "name": "stdout",
     "output_type": "stream",
     "text": [
      "7 0.980376766091\n"
     ]
    },
    {
     "name": "stdout",
     "output_type": "stream",
     "text": [
      "8 0.978806907378\n"
     ]
    },
    {
     "name": "stdout",
     "output_type": "stream",
     "text": [
      "9 0.977237048666\n"
     ]
    },
    {
     "name": "stdout",
     "output_type": "stream",
     "text": [
      "10 0.978806907378\n"
     ]
    }
   ],
   "source": [
    "training_indices, test_indices = test_training_indices(data_size=3823, train_size=2549)\n",
    "for k in range(1, 11):\n",
    "    knn_test = KNN(k=k).fit(digits_data[training_indices], digits_labels[training_indices])\n",
    "    test_labels = digits_labels[test_indices]\n",
    "    print(k, knn_test.score(digits_data[test_indices], test_labels))"
   ]
  },
  {
   "cell_type": "code",
   "execution_count": 32,
   "metadata": {},
   "outputs": [
    {
     "name": "stdout",
     "output_type": "stream",
     "text": [
      "[ 0.96073298  0.9921466   0.98691099  0.98172324  0.97382199  0.9947644\n  0.98694517  0.9947644   0.98429319  0.97389034]\n"
     ]
    }
   ],
   "source": [
    "knn_cross_validation_digits = KNN(k=3)\n",
    "cross_validation_results = cross_validation(digits_data, digits_labels,\n",
    "                                            knn_cross_validation_digits)\n",
    "print(np.array(cross_validation_results))"
   ]
  },
  {
   "cell_type": "code",
   "execution_count": null,
   "metadata": {},
   "outputs": [],
   "source": []
  }
 ],
 "metadata": {
  "kernelspec": {
   "display_name": "Python 2",
   "language": "python",
   "name": "python2"
  },
  "language_info": {
   "codemirror_mode": {
    "name": "ipython",
    "version": 2
   },
   "file_extension": ".py",
   "mimetype": "text/x-python",
   "name": "python",
   "nbconvert_exporter": "python",
   "pygments_lexer": "ipython2",
   "version": "2.7.6"
  }
 },
 "nbformat": 4,
 "nbformat_minor": 0
}
